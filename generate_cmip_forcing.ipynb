{
 "cells": [
  {
   "cell_type": "code",
   "execution_count": 1,
   "metadata": {},
   "outputs": [
    {
     "name": "stderr",
     "output_type": "stream",
     "text": [
      "hwloc/linux: Ignoring PCI device with non-16bit domain.\n",
      "Pass --enable-32bits-pci-domain to configure to support such devices\n",
      "(warning: it would break the library ABI, don't enable unless really needed).\n",
      "/home/bart/micromamba/envs/ewatercycle/lib/python3.10/site-packages/esmvalcore/experimental/_warnings.py:13: UserWarning: \n",
      "  Thank you for trying out the new ESMValCore API.\n",
      "  Note that this API is experimental and may be subject to change.\n",
      "  More info: https://github.com/ESMValGroup/ESMValCore/issues/498\n"
     ]
    }
   ],
   "source": [
    "from pathlib import Path\n",
    "import ewatercycle\n",
    "import numpy as np\n",
    "from IPython.display import clear_output\n",
    "\n",
    "from ewatercycle_wflowjl.forcing.forcing import WflowJlForcing\n",
    "from ewatercycle_wflowjl.model import WflowJl\n",
    "from ewatercycle_wflowjl.utils import get_geojson_locs"
   ]
  },
  {
   "cell_type": "code",
   "execution_count": 2,
   "metadata": {},
   "outputs": [
    {
     "name": "stderr",
     "output_type": "stream",
     "text": [
      "WARNING:esmvalcore.config._dask:Using the Dask basic scheduler. This may lead to slow computations and out-of-memory errors. Note that the basic scheduler may still be the best choice for preprocessor functions that are not lazy. In that case, you can safely ignore this warning. See https://docs.esmvaltool.org/projects/ESMValCore/en/latest/quickstart/configure.html#dask-distributed-configuration for more information. \n",
      "WARNING:esmvalcore.config._esgf_pyclient:\n",
      "ESGF credentials missing, only data that is accessible without\n",
      "logging in will be available.\n",
      "\n",
      "See https://esgf.github.io/esgf-user-support/user_guide.html\n",
      "for instructions on how to create an account if you do not have\n",
      "one yet.\n",
      "\n",
      "Next, configure your system so esmvaltool can use your\n",
      "credentials. This can be done using the keyring package, or\n",
      "you can just enter them in /home/bart/.esmvaltool/esgf-pyclient.yml.\n",
      "\n",
      "keyring\n",
      "=======\n",
      "First install the keyring package (requires a supported\n",
      "backend, see https://pypi.org/project/keyring/):\n",
      "$ pip install keyring\n",
      "\n",
      "Next, set your username and password by running the commands:\n",
      "$ keyring set ESGF hostname\n",
      "$ keyring set ESGF username\n",
      "$ keyring set ESGF password\n",
      "\n",
      "To check that you entered your credentials correctly, run:\n",
      "$ keyring get ESGF hostname\n",
      "$ keyring get ESGF username\n",
      "$ keyring get ESGF password\n",
      "\n",
      "configuration file\n",
      "==================\n",
      "You can store the hostname, username, and password or your OpenID\n",
      "account in a plain text in the file /home/bart/.esmvaltool/esgf-pyclient.yml like this:\n",
      "\n",
      "logon:\n",
      "  hostname: \"your-hostname\"\n",
      "  username: \"your-username\"\n",
      "  password: \"your-password\"\n",
      "\n",
      "or your can configure an interactive log in:\n",
      "\n",
      "logon:\n",
      "  interactive: true\n",
      "\n",
      "Note that storing your password in plain text in the configuration\n",
      "file is less secure. On shared systems, make sure the permissions\n",
      "of the file are set so only you can read it, i.e.\n",
      "\n",
      "$ ls -l /home/bart/.esmvaltool/esgf-pyclient.yml\n",
      "\n",
      "shows permissions -rw-------.\n",
      "\n",
      "\n",
      "WARNING:esmvalcore.cmor.check:There were warnings in variable rsds:\n",
      " rsds: attribute positive not present\n",
      "loaded from file /home/bart/climate_data/cmip5/output1/NOAA-GFDL/GFDL-ESM2G/historical/day/atmos/day/r1i1p1/v20130130/rsds_day_GFDL-ESM2G_historical_r1i1p1_19860101-19901231.nc\n",
      "WARNING:esmvalcore.cmor.check:There were warnings in variable rsds:\n",
      " rsds: attribute positive not present\n",
      "loaded from file \n"
     ]
    }
   ],
   "source": [
    "cmip_dataset = {\n",
    "    \"dataset\": \"GFDL-ESM2G\",\n",
    "    \"project\": \"CMIP5\",\n",
    "    \"grid\": \"gr\",\n",
    "    \"exp\": [\"historical\",],\n",
    "    \"ensemble\": \"r1i1p1\",\n",
    "}\n",
    "\n",
    "wflow_forcing = WflowJlForcing.generate(\n",
    "    dataset=cmip_dataset,\n",
    "    start_time=\"1990-01-01T00:00:00Z\",\n",
    "    end_time=\"1990-12-31T00:00:00Z\",\n",
    "    shape=\"/home/bart/Documents/wflow_humber/shp/humber_catchment.shp\",\n",
    "    dem_file=\"/home/bart/Documents/wflow_humber/staticmaps.nc\",\n",
    ")"
   ]
  },
  {
   "cell_type": "code",
   "execution_count": 3,
   "metadata": {},
   "outputs": [
    {
     "data": {
      "text/html": [
       "<pre style=\"white-space:pre;overflow-x:auto;line-height:normal;font-family:Menlo,'DejaVu Sans Mono',consolas,'Courier New',monospace\"><span style=\"color: #800080; text-decoration-color: #800080; font-weight: bold\">WflowJlForcing</span><span style=\"font-weight: bold\">(</span>\n",
       "    <span style=\"color: #808000; text-decoration-color: #808000\">start_time</span>=<span style=\"color: #008000; text-decoration-color: #008000\">'1990-01-01T00:00:00Z'</span>,\n",
       "    <span style=\"color: #808000; text-decoration-color: #808000\">end_time</span>=<span style=\"color: #008000; text-decoration-color: #008000\">'1990-12-31T00:00:00Z'</span>,\n",
       "    <span style=\"color: #808000; text-decoration-color: #808000\">directory</span>=<span style=\"color: #800080; text-decoration-color: #800080; font-weight: bold\">PosixPath</span><span style=\"font-weight: bold\">(</span><span style=\"color: #008000; text-decoration-color: #008000\">'/home/bart/esmvaltool_output/ewcrepiu1ao2yv_20231026_142111/work/diagnostic/script'</span><span style=\"font-weight: bold\">)</span>,\n",
       "    <span style=\"color: #808000; text-decoration-color: #808000\">shape</span>=<span style=\"color: #800080; text-decoration-color: #800080; font-weight: bold\">PosixPath</span><span style=\"font-weight: bold\">(</span><span style=\"color: #008000; text-decoration-color: #008000\">'/home/bart/Documents/wflow_humber/shp/humber_catchment.shp'</span><span style=\"font-weight: bold\">)</span>,\n",
       "    <span style=\"color: #808000; text-decoration-color: #808000\">netcdfinput</span>=<span style=\"color: #008000; text-decoration-color: #008000\">'wflow_GFDL-ESM2G_humber_catchment_1989_1990.nc'</span>,\n",
       "    <span style=\"color: #808000; text-decoration-color: #808000\">Inflow</span>=<span style=\"color: #800080; text-decoration-color: #800080; font-style: italic\">None</span>\n",
       "<span style=\"font-weight: bold\">)</span>\n",
       "</pre>\n"
      ],
      "text/plain": [
       "\u001b[1;35mWflowJlForcing\u001b[0m\u001b[1m(\u001b[0m\n",
       "    \u001b[33mstart_time\u001b[0m=\u001b[32m'1990-01-01T00:00:00Z'\u001b[0m,\n",
       "    \u001b[33mend_time\u001b[0m=\u001b[32m'1990-12-31T00:00:00Z'\u001b[0m,\n",
       "    \u001b[33mdirectory\u001b[0m=\u001b[1;35mPosixPath\u001b[0m\u001b[1m(\u001b[0m\u001b[32m'/home/bart/esmvaltool_output/ewcrepiu1ao2yv_20231026_142111/work/diagnostic/script'\u001b[0m\u001b[1m)\u001b[0m,\n",
       "    \u001b[33mshape\u001b[0m=\u001b[1;35mPosixPath\u001b[0m\u001b[1m(\u001b[0m\u001b[32m'/home/bart/Documents/wflow_humber/shp/humber_catchment.shp'\u001b[0m\u001b[1m)\u001b[0m,\n",
       "    \u001b[33mnetcdfinput\u001b[0m=\u001b[32m'wflow_GFDL-ESM2G_humber_catchment_1989_1990.nc'\u001b[0m,\n",
       "    \u001b[33mInflow\u001b[0m=\u001b[3;35mNone\u001b[0m\n",
       "\u001b[1m)\u001b[0m\n"
      ]
     },
     "metadata": {},
     "output_type": "display_data"
    }
   ],
   "source": [
    "from rich import print\n",
    "print(wflow_forcing)"
   ]
  },
  {
   "cell_type": "code",
   "execution_count": 4,
   "metadata": {},
   "outputs": [],
   "source": [
    "import xarray as xr\n",
    "ds = xr.open_dataset(wflow_forcing.directory / wflow_forcing.netcdfinput)\n"
   ]
  },
  {
   "cell_type": "code",
   "execution_count": 4,
   "metadata": {},
   "outputs": [],
   "source": [
    "from ewatercycle.base.parameter_set import ParameterSet\n",
    "\n",
    "parameters_humber = ParameterSet(\n",
    "    name=\"humber\",\n",
    "    directory=Path(\"/home/bart/wflow_humber\"),\n",
    "    target_model=\"WflowJl\",\n",
    "    config=\"wflow_sbm.toml\",\n",
    ")"
   ]
  },
  {
   "cell_type": "code",
   "execution_count": 5,
   "metadata": {},
   "outputs": [],
   "source": [
    "model = WflowJl(\n",
    "    parameter_set=parameters_humber,\n",
    "    forcing=wflow_forcing\n",
    ")\n",
    "\n",
    "cfg_file,_ = model.setup()"
   ]
  },
  {
   "cell_type": "code",
   "execution_count": 6,
   "metadata": {},
   "outputs": [
    {
     "data": {
      "text/plain": [
       "'/home/bart/git/pywflow/wflowjl_20231026_142342/wflow_ewatercycle.toml'"
      ]
     },
     "execution_count": 6,
     "metadata": {},
     "output_type": "execute_result"
    }
   ],
   "source": [
    "cfg_file"
   ]
  },
  {
   "cell_type": "code",
   "execution_count": 7,
   "metadata": {},
   "outputs": [
    {
     "name": "stderr",
     "output_type": "stream",
     "text": [
      "[ Info: Initialize model variables for model type `sbm`.\n",
      "[ Info: Cyclic parameters are provided by `/home/bart/wflow_humber/staticmaps.nc`.\n",
      "[ Info: Forcing parameters are provided by `/home/bart/esmvaltool_output/ewcrepiu1ao2yv_20231026_142111/work/diagnostic/script/wflow_GFDL-ESM2G_humber_catchment_1989_1990.nc`.\n",
      "[ Info: Set `vertical.precipitation` using NetCDF variable `precip` as forcing parameter.\n",
      "[ Info: Set `vertical.temperature` using NetCDF variable `temp` as forcing parameter.\n",
      "[ Info: Set `vertical.potential_evaporation` using NetCDF variable `pet` as forcing parameter.\n",
      "[ Info: Set `vertical.leaf_area_index` using NetCDF variable `LAI` as cyclic parameter.\n",
      "┌ Info: General model settings\n",
      "│   reservoirs = true\n",
      "│   lakes = false\n",
      "│   snow = true\n",
      "│   masswasting = true\n",
      "└   glacier = false\n",
      "[ Info: Set `subcatchment` using NetCDF variable `wflow_subcatch`.\n",
      "[ Info: Set `river_location` using NetCDF variable `wflow_river`.\n",
      "[ Info: Set `lateral.river.width` using NetCDF variable `wflow_riverwidth`.\n",
      "[ Info: Set `lateral.river.length` using NetCDF variable `wflow_riverlength`.\n",
      "[ Info: Set `vertical.cfmax` using NetCDF variable `Cfmax`.\n",
      "[ Info: Set `vertical.tt` using NetCDF variable `TT`.\n",
      "[ Info: Set `vertical.tti` using NetCDF variable `TTI`.\n",
      "[ Info: Set `vertical.ttm` using NetCDF variable `TTM`.\n",
      "[ Info: Set `vertical.whc` using default value `0.1`.\n",
      "[ Info: Set `vertical.w_soil` using default value `0.1125`.\n",
      "[ Info: Set `vertical.cf_soil` using NetCDF variable `cf_soil`.\n",
      "[ Info: Set `vertical.g_tt` using default value `0.0`.\n",
      "[ Info: Set `vertical.g_cfmax` using default value `3.0`.\n",
      "[ Info: Set `vertical.g_sifrac` using default value `0.001`.\n",
      "[ Info: Set `vertical.glacierfrac` using default value `0.0`.\n",
      "[ Info: Set `vertical.glacierstore` using default value `5500.0`.\n",
      "[ Info: Set `vertical.theta_s` using NetCDF variable `thetaS`.\n",
      "[ Info: Set `vertical.theta_r` using NetCDF variable `thetaR`.\n",
      "[ Info: Set `vertical.kv_0` using NetCDF variable `KsatVer`.\n",
      "[ Info: Set `vertical.f` using NetCDF variable `f`.\n",
      "[ Info: Set `vertical.hb` using default value `10.0`.\n",
      "[ Info: Set `vertical.soilthickness` using NetCDF variable `SoilThickness`.\n",
      "[ Info: Set `vertical.infiltcappath` using NetCDF variable `InfiltCapPath`.\n",
      "[ Info: Set `vertical.infiltcapsoil` using NetCDF variable `InfiltCapSoil`.\n",
      "[ Info: Set `vertical.maxleakage` using NetCDF variable `MaxLeakage`.\n",
      "[ Info: Set `vertical.c` using NetCDF variable `c`.\n",
      "[ Info: Set `vertical.kvfrac` using default value `1.0`.\n",
      "[ Info: Set `vertical.waterfrac` using NetCDF variable `WaterFrac`.\n",
      "[ Info: Set `vertical.pathfrac` using NetCDF variable `PathFrac`.\n",
      "[ Info: Set `vertical.rootingdepth` using NetCDF variable `RootingDepth`.\n",
      "[ Info: Set `vertical.rootdistpar` using NetCDF variable `rootdistpar`.\n",
      "[ Info: Set `vertical.cap_hmax` using default value `2000.0`.\n",
      "[ Info: Set `vertical.cap_n` using default value `2.0`.\n",
      "[ Info: Set `vertical.et_reftopot` using default value `1.0`.\n",
      "[ Info: Set `vertical.specific_leaf` using NetCDF variable `Sl`.\n",
      "[ Info: Set `vertical.storage_wood` using NetCDF variable `Swood`.\n",
      "[ Info: Set `vertical.kext` using NetCDF variable `Kext`.\n",
      "[ Info: Set `lateral.river.reservoir.locs` using NetCDF variable `wflow_reservoirlocs`.\n",
      "[ Info: Set `lateral.river.reservoir.areas` using NetCDF variable `wflow_reservoirareas`.\n",
      "[ Info: Set `lateral.river.reservoir.demand` using NetCDF variable `ResDemand`.\n",
      "[ Info: Set `lateral.river.reservoir.maxrelease` using NetCDF variable `ResMaxRelease`.\n",
      "[ Info: Set `lateral.river.reservoir.maxvolume` using NetCDF variable `ResMaxVolume`.\n",
      "[ Info: Set `lateral.river.reservoir.area` using NetCDF variable `ResSimpleArea`.\n",
      "[ Info: Set `lateral.river.reservoir.targetfullfrac` using NetCDF variable `ResTargetFullFrac`.\n",
      "[ Info: Set `lateral.river.reservoir.targetminfrac` using NetCDF variable `ResTargetMinFrac`.\n",
      "[ Info: Read `3` reservoir locations.\n",
      "[ Info: Set `ldd` using NetCDF variable `wflow_ldd`.\n",
      "[ Info: Set `lateral.land.slope` using NetCDF variable `Slope`.\n",
      "[ Info: Set `lateral.subsurface.ksathorfrac` using NetCDF variable `KsatHorFrac`.\n",
      "┌ Info: Kinematic wave approach is used for overland flow.\n",
      "└   iterate = true\n",
      "[ Info: Using a fixed sub-timestep (seconds) 3600 for kinematic wave overland flow.\n",
      "[ Info: Set `lateral.land.n` using NetCDF variable `N`.\n",
      "┌ Info: Kinematic wave approach is used for river flow.\n",
      "└   iterate = true\n",
      "[ Info: Using a fixed sub-timestep (seconds) 900 for kinematic wave river flow.\n",
      "[ Info: Set `lateral.river.n` using NetCDF variable `N_River`.\n",
      "[ Info: Set `lateral.river.bankfull_depth` using NetCDF variable `RiverDepth`.\n",
      "[ Info: Set `lateral.river.slope` using NetCDF variable `RiverSlope`.\n",
      "[ Info: Create an output NetCDF file `/home/bart/git/pywflow/wflowjl_20231026_142342/run_default/output.nc` for grid data, using compression level `0`.\n",
      "[ Info: Create a state output NetCDF file `/home/bart/git/pywflow/wflowjl_20231026_142342/run_default/outstate/outstates.nc`.\n",
      "[ Info: Create an output NetCDF file `/home/bart/git/pywflow/wflowjl_20231026_142342/run_default/outstate/outstates.nc` for scalar data.\n",
      "[ Info: Set `gauges_src` using NetCDF variable `wflow_gauges_src`.\n",
      "[ Info: Set `gauges_src` using NetCDF variable `wflow_gauges_src`.\n",
      "┌ Info: Adding scalar output for a map with a reducer function.\n",
      "│   fileformat = \"NetCDF\"\n",
      "│   param = \"lateral.river.q\"\n",
      "│   mapname = \"gauges_src\"\n",
      "└   reducer_name = \"only\"\n",
      "[ Info: Create an output CSV file `/home/bart/git/pywflow/wflowjl_20231026_142342/run_default/output.csv` for scalar data.\n",
      "[ Info: Set `gauges` using NetCDF variable `wflow_gauges`.\n",
      "[ Info: Set `gauges_src` using NetCDF variable `wflow_gauges_src`.\n",
      "[ Info: Set `gauges_src` using NetCDF variable `wflow_gauges_src`.\n",
      "[ Info: Set `gauges` using NetCDF variable `wflow_gauges`.\n",
      "┌ Info: Adding scalar output for a map with a reducer function.\n",
      "│   fileformat = \"CSV\"\n",
      "│   param = \"lateral.river.q_av\"\n",
      "│   mapname = \"gauges\"\n",
      "└   reducer_name = \"only\"\n",
      "[ Info: Set `gauges_src` using NetCDF variable `wflow_gauges_src`.\n",
      "┌ Info: Adding scalar output for a map with a reducer function.\n",
      "│   fileformat = \"CSV\"\n",
      "│   param = \"lateral.river.q_av\"\n",
      "│   mapname = \"gauges_src\"\n",
      "└   reducer_name = \"only\"\n",
      "[ Info: Set `gauges_src` using NetCDF variable `wflow_gauges_src`.\n",
      "┌ Info: Adding scalar output for a map with a reducer function.\n",
      "│   fileformat = \"CSV\"\n",
      "│   param = \"vertical.precipitation\"\n",
      "│   mapname = \"gauges_src\"\n",
      "└   reducer_name = \"only\"\n",
      "[ Info: Set initial conditions from state file `/home/bart/wflow_humber/instate/instates.nc`.\n",
      "┌ Warning: The unit of `ssf` (lateral subsurface flow) is now m3 d-1. Please update your input state file if it was produced with a Wflow version up to v0.5.2.\n",
      "└ @ Wflow ~/.julia/packages/Wflow/aXumd/src/sbm_model.jl:457\n",
      "┌ Info: Setting initial state from NetCDF.\n",
      "│   ncpath = \"/home/bart/wflow_humber/instate/instates.nc\"\n",
      "│   ncvarname = \"satwaterdepth\"\n",
      "└   state = (:vertical, :satwaterdepth)\n",
      "┌ Info: Setting initial state from NetCDF.\n",
      "│   ncpath = \"/home/bart/wflow_humber/instate/instates.nc\"\n",
      "│   ncvarname = \"ssf\"\n",
      "└   state = (:lateral, :subsurface, :ssf)\n",
      "┌ Info: Setting initial state from NetCDF.\n",
      "│   ncpath = \"/home/bart/wflow_humber/instate/instates.nc\"\n",
      "│   ncvarname = \"h_av_land\"\n",
      "└   state = (:lateral, :land, :h_av)\n",
      "┌ Info: Setting initial state from NetCDF.\n",
      "│   ncpath = \"/home/bart/wflow_humber/instate/instates.nc\"\n",
      "│   ncvarname = \"canopystorage\"\n",
      "└   state = (:vertical, :canopystorage)\n",
      "┌ Info: Setting initial state from NetCDF.\n",
      "│   ncpath = \"/home/bart/wflow_humber/instate/instates.nc\"\n",
      "│   ncvarname = \"q_river\"\n",
      "└   state = (:lateral, :river, :q)\n",
      "┌ Info: Setting initial state from NetCDF.\n",
      "│   ncpath = \"/home/bart/wflow_humber/instate/instates.nc\"\n",
      "│   ncvarname = \"volume_reservoir\"\n",
      "└   state = (:lateral, :river, :reservoir, :volume)\n",
      "┌ Info: Setting initial state from NetCDF.\n",
      "│   ncpath = \"/home/bart/wflow_humber/instate/instates.nc\"\n",
      "│   ncvarname = \"h_land\"\n",
      "└   state = (:lateral, :land, :h)\n",
      "┌ Info: Setting initial state from NetCDF.\n",
      "│   ncpath = \"/home/bart/wflow_humber/instate/instates.nc\"\n",
      "│   ncvarname = \"tsoil\"\n",
      "└   state = (:vertical, :tsoil)\n",
      "┌ Info: Setting initial state from NetCDF.\n",
      "│   ncpath = \"/home/bart/wflow_humber/instate/instates.nc\"\n",
      "│   ncvarname = \"h_river\"\n",
      "└   state = (:lateral, :river, :h)\n",
      "┌ Info: Setting initial state from NetCDF.\n",
      "│   ncpath = \"/home/bart/wflow_humber/instate/instates.nc\"\n",
      "│   ncvarname = \"snowwater\"\n",
      "└   state = (:vertical, :snowwater)\n",
      "┌ Info: Setting initial state from NetCDF.\n",
      "│   ncpath = \"/home/bart/wflow_humber/instate/instates.nc\"\n",
      "│   ncvarname = \"ustorelayerdepth\"\n",
      "└   state = (:vertical, :ustorelayerdepth)\n",
      "┌ Info: Setting initial state from NetCDF.\n",
      "│   ncpath = \"/home/bart/wflow_humber/instate/instates.nc\"\n",
      "│   ncvarname = \"h_av_river\"\n",
      "└   state = (:lateral, :river, :h_av)\n",
      "┌ Info: Setting initial state from NetCDF.\n",
      "│   ncpath = \"/home/bart/wflow_humber/instate/instates.nc\"\n",
      "│   ncvarname = \"q_land\"\n",
      "└   state = (:lateral, :land, :q)\n",
      "┌ Info: Setting initial state from NetCDF.\n",
      "│   ncpath = \"/home/bart/wflow_humber/instate/instates.nc\"\n",
      "│   ncvarname = \"snow\"\n",
      "└   state = (:vertical, :snow)\n",
      "[ Info: Initialized model\n"
     ]
    }
   ],
   "source": [
    "model.initialize(cfg_file)"
   ]
  },
  {
   "cell_type": "code",
   "execution_count": 9,
   "metadata": {},
   "outputs": [
    {
     "ename": "JuliaError",
     "evalue": "MethodError: Cannot `convert` an object of type CFTime.DateTimeNoLeap to an object of type Dates.DateTime\n\nClosest candidates are:\n  convert(::Type{Dates.DateTime}, !Matched::T2) where T2<:Union{CFTime.DateTimeJulian, CFTime.DateTimeProlepticGregorian, CFTime.DateTimeStandard}\n   @ CFTime ~/.julia/packages/CFTime/n09Um/src/CFTime.jl:308\n  convert(::Type{Dates.DateTime}, !Matched::Dates.Date)\n   @ Dates ~/micromamba/envs/ewatercycle/julia_env/pyjuliapkg/install/share/julia/stdlib/v1.9/Dates/src/conversions.jl:30\n  convert(::Type{Dates.DateTime}, !Matched::Dates.Millisecond)\n   @ Dates ~/micromamba/envs/ewatercycle/julia_env/pyjuliapkg/install/share/julia/stdlib/v1.9/Dates/src/conversions.jl:34\n  ...\n\nStacktrace:\n [1] update_forcing!(model::Wflow.Model{NamedTuple{(:land, :river, :reservoir, :lake, :index_river, :frac_toriver), Tuple{NamedTuple{(:graph, :upstream_nodes, :subdomain_order, :topo_subdomain, :indices_subdomain, :order, :indices, :reverse_indices, :xl, :yl, :slope), Tuple{Graphs.SimpleGraphs.SimpleDiGraph{Int64}, Vector{Vector{Int64}}, Vector{Vector{Int64}}, Vector{Vector{Int64}}, Vector{Vector{Int64}}, Vector{Int64}, Vector{CartesianIndex{2}}, Matrix{Int64}, Vector{Float64}, Vector{Float64}, Vector{Float64}}}, NamedTuple{(:graph, :indices, :reverse_indices, :upstream_nodes, :subdomain_order, :topo_subdomain, :indices_subdomain, :order), Tuple{Graphs.SimpleGraphs.SimpleDiGraph{Int64}, Vector{CartesianIndex{2}}, Matrix{Int64}, Vector{Vector{Int64}}, Vector{Vector{Int64}}, Vector{Vector{Int64}}, Vector{Vector{Int64}}, Vector{Int64}}}, NamedTuple{(:indices_outlet, :indices_coverage, :reverse_indices), Tuple{Vector{CartesianIndex{2}}, Vector{Vector{CartesianIndex{2}}}, Matrix{Int64}}}, Tuple{}, Vector{Int64}, Vector{Float64}}}, NamedTuple{(:subsurface, :land, :river), Tuple{Wflow.LateralSSF{Float64}, Wflow.SurfaceFlowLand{Float64}, Wflow.SurfaceFlowRiver{Float64, Wflow.SimpleReservoir{Float64}, Nothing}}}, Wflow.SBM{Float64, 4, 5}, Wflow.NCReader{Dates.DateTime}, Wflow.Writer, Wflow.SbmModel})\n   @ Wflow ~/.julia/packages/Wflow/aXumd/src/io.jl:268\n [2] load_dynamic_input!(model::Wflow.Model{NamedTuple{(:land, :river, :reservoir, :lake, :index_river, :frac_toriver), Tuple{NamedTuple{(:graph, :upstream_nodes, :subdomain_order, :topo_subdomain, :indices_subdomain, :order, :indices, :reverse_indices, :xl, :yl, :slope), Tuple{Graphs.SimpleGraphs.SimpleDiGraph{Int64}, Vector{Vector{Int64}}, Vector{Vector{Int64}}, Vector{Vector{Int64}}, Vector{Vector{Int64}}, Vector{Int64}, Vector{CartesianIndex{2}}, Matrix{Int64}, Vector{Float64}, Vector{Float64}, Vector{Float64}}}, NamedTuple{(:graph, :indices, :reverse_indices, :upstream_nodes, :subdomain_order, :topo_subdomain, :indices_subdomain, :order), Tuple{Graphs.SimpleGraphs.SimpleDiGraph{Int64}, Vector{CartesianIndex{2}}, Matrix{Int64}, Vector{Vector{Int64}}, Vector{Vector{Int64}}, Vector{Vector{Int64}}, Vector{Vector{Int64}}, Vector{Int64}}}, NamedTuple{(:indices_outlet, :indices_coverage, :reverse_indices), Tuple{Vector{CartesianIndex{2}}, Vector{Vector{CartesianIndex{2}}}, Matrix{Int64}}}, Tuple{}, Vector{Int64}, Vector{Float64}}}, NamedTuple{(:subsurface, :land, :river), Tuple{Wflow.LateralSSF{Float64}, Wflow.SurfaceFlowLand{Float64}, Wflow.SurfaceFlowRiver{Float64, Wflow.SimpleReservoir{Float64}, Nothing}}}, Wflow.SBM{Float64, 4, 5}, Wflow.NCReader{Dates.DateTime}, Wflow.Writer, Wflow.SbmModel})\n   @ Wflow ~/.julia/packages/Wflow/aXumd/src/io.jl:326\n [3] run_timestep(model::Wflow.Model{NamedTuple{(:land, :river, :reservoir, :lake, :index_river, :frac_toriver), Tuple{NamedTuple{(:graph, :upstream_nodes, :subdomain_order, :topo_subdomain, :indices_subdomain, :order, :indices, :reverse_indices, :xl, :yl, :slope), Tuple{Graphs.SimpleGraphs.SimpleDiGraph{Int64}, Vector{Vector{Int64}}, Vector{Vector{Int64}}, Vector{Vector{Int64}}, Vector{Vector{Int64}}, Vector{Int64}, Vector{CartesianIndex{2}}, Matrix{Int64}, Vector{Float64}, Vector{Float64}, Vector{Float64}}}, NamedTuple{(:graph, :indices, :reverse_indices, :upstream_nodes, :subdomain_order, :topo_subdomain, :indices_subdomain, :order), Tuple{Graphs.SimpleGraphs.SimpleDiGraph{Int64}, Vector{CartesianIndex{2}}, Matrix{Int64}, Vector{Vector{Int64}}, Vector{Vector{Int64}}, Vector{Vector{Int64}}, Vector{Vector{Int64}}, Vector{Int64}}}, NamedTuple{(:indices_outlet, :indices_coverage, :reverse_indices), Tuple{Vector{CartesianIndex{2}}, Vector{Vector{CartesianIndex{2}}}, Matrix{Int64}}}, Tuple{}, Vector{Int64}, Vector{Float64}}}, NamedTuple{(:subsurface, :land, :river), Tuple{Wflow.LateralSSF{Float64}, Wflow.SurfaceFlowLand{Float64}, Wflow.SurfaceFlowRiver{Float64, Wflow.SimpleReservoir{Float64}, Nothing}}}, Wflow.SBM{Float64, 4, 5}, Wflow.NCReader{Dates.DateTime}, Wflow.Writer, Wflow.SbmModel}; update_func::typeof(Wflow.update), write_model_output::Bool)\n   @ Wflow ~/.julia/packages/Wflow/aXumd/src/Wflow.jl:205\n [4] run_timestep\n   @ ~/.julia/packages/Wflow/aXumd/src/Wflow.jl:203 [inlined]\n [5] #update#206\n   @ ~/.julia/packages/Wflow/aXumd/src/bmi.jl:53 [inlined]\n [6] update(model::Wflow.Model{NamedTuple{(:land, :river, :reservoir, :lake, :index_river, :frac_toriver), Tuple{NamedTuple{(:graph, :upstream_nodes, :subdomain_order, :topo_subdomain, :indices_subdomain, :order, :indices, :reverse_indices, :xl, :yl, :slope), Tuple{Graphs.SimpleGraphs.SimpleDiGraph{Int64}, Vector{Vector{Int64}}, Vector{Vector{Int64}}, Vector{Vector{Int64}}, Vector{Vector{Int64}}, Vector{Int64}, Vector{CartesianIndex{2}}, Matrix{Int64}, Vector{Float64}, Vector{Float64}, Vector{Float64}}}, NamedTuple{(:graph, :indices, :reverse_indices, :upstream_nodes, :subdomain_order, :topo_subdomain, :indices_subdomain, :order), Tuple{Graphs.SimpleGraphs.SimpleDiGraph{Int64}, Vector{CartesianIndex{2}}, Matrix{Int64}, Vector{Vector{Int64}}, Vector{Vector{Int64}}, Vector{Vector{Int64}}, Vector{Vector{Int64}}, Vector{Int64}}}, NamedTuple{(:indices_outlet, :indices_coverage, :reverse_indices), Tuple{Vector{CartesianIndex{2}}, Vector{Vector{CartesianIndex{2}}}, Matrix{Int64}}}, Tuple{}, Vector{Int64}, Vector{Float64}}}, NamedTuple{(:subsurface, :land, :river), Tuple{Wflow.LateralSSF{Float64}, Wflow.SurfaceFlowLand{Float64}, Wflow.SurfaceFlowRiver{Float64, Wflow.SimpleReservoir{Float64}, Nothing}}}, Wflow.SBM{Float64, 4, 5}, Wflow.NCReader{Dates.DateTime}, Wflow.Writer, Wflow.SbmModel})\n   @ Wflow ~/.julia/packages/Wflow/aXumd/src/bmi.jl:50\n [7] pyjlany_call(self::typeof(BasicModelInterface.update), args_::Py, kwargs_::Py)\n   @ PythonCall ~/.julia/packages/PythonCall/qTEA1/src/jlwrap/any.jl:37\n [8] _pyjl_callmethod(f::Any, self_::Ptr{PythonCall.C.PyObject}, args_::Ptr{PythonCall.C.PyObject}, nargs::Int64)\n   @ PythonCall ~/.julia/packages/PythonCall/qTEA1/src/jlwrap/base.jl:69\n [9] _pyjl_callmethod(o::Ptr{PythonCall.C.PyObject}, args::Ptr{PythonCall.C.PyObject})\n   @ PythonCall.C ~/.julia/packages/PythonCall/qTEA1/src/cpython/jlwrap.jl:47",
     "output_type": "error",
     "traceback": [
      "\u001b[0;31m---------------------------------------------------------------------------\u001b[0m",
      "\u001b[0;31mJuliaError\u001b[0m                                Traceback (most recent call last)",
      "\u001b[1;32m/home/bart/git/pywflow/generate_cmip_forcing.ipynb Cell 9\u001b[0m line \u001b[0;36m1\n\u001b[0;32m----> <a href='vscode-notebook-cell:/home/bart/git/pywflow/generate_cmip_forcing.ipynb#X22sZmlsZQ%3D%3D?line=0'>1</a>\u001b[0m model\u001b[39m.\u001b[39;49mupdate()\n",
      "File \u001b[0;32m~/micromamba/envs/ewatercycle/lib/python3.10/site-packages/ewatercycle/base/model.py:176\u001b[0m, in \u001b[0;36meWaterCycleModel.update\u001b[0;34m(self)\u001b[0m\n\u001b[1;32m    174\u001b[0m \u001b[39mdef\u001b[39;00m \u001b[39mupdate\u001b[39m(\u001b[39mself\u001b[39m) \u001b[39m-\u001b[39m\u001b[39m>\u001b[39m \u001b[39mNone\u001b[39;00m:\n\u001b[1;32m    175\u001b[0m \u001b[39m    \u001b[39m\u001b[39m\"\"\"Advance model state by one time step.\"\"\"\u001b[39;00m\n\u001b[0;32m--> 176\u001b[0m     \u001b[39mself\u001b[39;49m\u001b[39m.\u001b[39;49m_bmi\u001b[39m.\u001b[39;49mupdate()\n",
      "File \u001b[0;32m~/micromamba/envs/ewatercycle/lib/python3.10/site-packages/grpc4bmi/bmi_optionaldest.py:52\u001b[0m, in \u001b[0;36mOptionalDestBmi.update\u001b[0;34m(self)\u001b[0m\n\u001b[1;32m     51\u001b[0m \u001b[39mdef\u001b[39;00m \u001b[39mupdate\u001b[39m(\u001b[39mself\u001b[39m) \u001b[39m-\u001b[39m\u001b[39m>\u001b[39m \u001b[39mNone\u001b[39;00m:\n\u001b[0;32m---> 52\u001b[0m     \u001b[39mself\u001b[39;49m\u001b[39m.\u001b[39;49morigin\u001b[39m.\u001b[39;49mupdate()\n",
      "File \u001b[0;32m~/micromamba/envs/ewatercycle/lib/python3.10/site-packages/grpc4bmi/bmi_julia_model.py:77\u001b[0m, in \u001b[0;36mBmiJulia.update\u001b[0;34m(self)\u001b[0m\n\u001b[1;32m     69\u001b[0m \u001b[39mdef\u001b[39;00m \u001b[39mupdate\u001b[39m(\u001b[39mself\u001b[39m) \u001b[39m-\u001b[39m\u001b[39m>\u001b[39m \u001b[39mNone\u001b[39;00m:\n\u001b[1;32m     70\u001b[0m \u001b[39m    \u001b[39m\u001b[39m\"\"\"Advance model state by one time step.\u001b[39;00m\n\u001b[1;32m     71\u001b[0m \u001b[39m    Perform all tasks that take place within one pass through the model's\u001b[39;00m\n\u001b[1;32m     72\u001b[0m \u001b[39m    time loop. This typically includes incrementing all of the model's\u001b[39;00m\n\u001b[0;32m   (...)\u001b[0m\n\u001b[1;32m     75\u001b[0m \u001b[39m    method can return with no action.\u001b[39;00m\n\u001b[1;32m     76\u001b[0m \u001b[39m    \"\"\"\u001b[39;00m\n\u001b[0;32m---> 77\u001b[0m     \u001b[39mself\u001b[39;49m\u001b[39m.\u001b[39;49mimplementation\u001b[39m.\u001b[39;49mupdate(\u001b[39mself\u001b[39;49m\u001b[39m.\u001b[39;49mstate)\n",
      "File \u001b[0;32m~/.julia/packages/PythonCall/qTEA1/src/jlwrap/any.jl:208\u001b[0m, in \u001b[0;36m__call__\u001b[0;34m(self, *args, **kwargs)\u001b[0m\n\u001b[1;32m    206\u001b[0m     return ValueBase.__dir__(self) + self._jl_callmethod($(pyjl_methodnum(pyjlany_dir)))\n\u001b[1;32m    207\u001b[0m def __call__(self, *args, **kwargs):\n\u001b[0;32m--> 208\u001b[0m     return self._jl_callmethod($(pyjl_methodnum(pyjlany_call)), args, kwargs)\n\u001b[1;32m    209\u001b[0m def __bool__(self):\n\u001b[1;32m    210\u001b[0m     return True\n",
      "\u001b[0;31mJuliaError\u001b[0m: MethodError: Cannot `convert` an object of type CFTime.DateTimeNoLeap to an object of type Dates.DateTime\n\nClosest candidates are:\n  convert(::Type{Dates.DateTime}, !Matched::T2) where T2<:Union{CFTime.DateTimeJulian, CFTime.DateTimeProlepticGregorian, CFTime.DateTimeStandard}\n   @ CFTime ~/.julia/packages/CFTime/n09Um/src/CFTime.jl:308\n  convert(::Type{Dates.DateTime}, !Matched::Dates.Date)\n   @ Dates ~/micromamba/envs/ewatercycle/julia_env/pyjuliapkg/install/share/julia/stdlib/v1.9/Dates/src/conversions.jl:30\n  convert(::Type{Dates.DateTime}, !Matched::Dates.Millisecond)\n   @ Dates ~/micromamba/envs/ewatercycle/julia_env/pyjuliapkg/install/share/julia/stdlib/v1.9/Dates/src/conversions.jl:34\n  ...\n\nStacktrace:\n [1] update_forcing!(model::Wflow.Model{NamedTuple{(:land, :river, :reservoir, :lake, :index_river, :frac_toriver), Tuple{NamedTuple{(:graph, :upstream_nodes, :subdomain_order, :topo_subdomain, :indices_subdomain, :order, :indices, :reverse_indices, :xl, :yl, :slope), Tuple{Graphs.SimpleGraphs.SimpleDiGraph{Int64}, Vector{Vector{Int64}}, Vector{Vector{Int64}}, Vector{Vector{Int64}}, Vector{Vector{Int64}}, Vector{Int64}, Vector{CartesianIndex{2}}, Matrix{Int64}, Vector{Float64}, Vector{Float64}, Vector{Float64}}}, NamedTuple{(:graph, :indices, :reverse_indices, :upstream_nodes, :subdomain_order, :topo_subdomain, :indices_subdomain, :order), Tuple{Graphs.SimpleGraphs.SimpleDiGraph{Int64}, Vector{CartesianIndex{2}}, Matrix{Int64}, Vector{Vector{Int64}}, Vector{Vector{Int64}}, Vector{Vector{Int64}}, Vector{Vector{Int64}}, Vector{Int64}}}, NamedTuple{(:indices_outlet, :indices_coverage, :reverse_indices), Tuple{Vector{CartesianIndex{2}}, Vector{Vector{CartesianIndex{2}}}, Matrix{Int64}}}, Tuple{}, Vector{Int64}, Vector{Float64}}}, NamedTuple{(:subsurface, :land, :river), Tuple{Wflow.LateralSSF{Float64}, Wflow.SurfaceFlowLand{Float64}, Wflow.SurfaceFlowRiver{Float64, Wflow.SimpleReservoir{Float64}, Nothing}}}, Wflow.SBM{Float64, 4, 5}, Wflow.NCReader{Dates.DateTime}, Wflow.Writer, Wflow.SbmModel})\n   @ Wflow ~/.julia/packages/Wflow/aXumd/src/io.jl:268\n [2] load_dynamic_input!(model::Wflow.Model{NamedTuple{(:land, :river, :reservoir, :lake, :index_river, :frac_toriver), Tuple{NamedTuple{(:graph, :upstream_nodes, :subdomain_order, :topo_subdomain, :indices_subdomain, :order, :indices, :reverse_indices, :xl, :yl, :slope), Tuple{Graphs.SimpleGraphs.SimpleDiGraph{Int64}, Vector{Vector{Int64}}, Vector{Vector{Int64}}, Vector{Vector{Int64}}, Vector{Vector{Int64}}, Vector{Int64}, Vector{CartesianIndex{2}}, Matrix{Int64}, Vector{Float64}, Vector{Float64}, Vector{Float64}}}, NamedTuple{(:graph, :indices, :reverse_indices, :upstream_nodes, :subdomain_order, :topo_subdomain, :indices_subdomain, :order), Tuple{Graphs.SimpleGraphs.SimpleDiGraph{Int64}, Vector{CartesianIndex{2}}, Matrix{Int64}, Vector{Vector{Int64}}, Vector{Vector{Int64}}, Vector{Vector{Int64}}, Vector{Vector{Int64}}, Vector{Int64}}}, NamedTuple{(:indices_outlet, :indices_coverage, :reverse_indices), Tuple{Vector{CartesianIndex{2}}, Vector{Vector{CartesianIndex{2}}}, Matrix{Int64}}}, Tuple{}, Vector{Int64}, Vector{Float64}}}, NamedTuple{(:subsurface, :land, :river), Tuple{Wflow.LateralSSF{Float64}, Wflow.SurfaceFlowLand{Float64}, Wflow.SurfaceFlowRiver{Float64, Wflow.SimpleReservoir{Float64}, Nothing}}}, Wflow.SBM{Float64, 4, 5}, Wflow.NCReader{Dates.DateTime}, Wflow.Writer, Wflow.SbmModel})\n   @ Wflow ~/.julia/packages/Wflow/aXumd/src/io.jl:326\n [3] run_timestep(model::Wflow.Model{NamedTuple{(:land, :river, :reservoir, :lake, :index_river, :frac_toriver), Tuple{NamedTuple{(:graph, :upstream_nodes, :subdomain_order, :topo_subdomain, :indices_subdomain, :order, :indices, :reverse_indices, :xl, :yl, :slope), Tuple{Graphs.SimpleGraphs.SimpleDiGraph{Int64}, Vector{Vector{Int64}}, Vector{Vector{Int64}}, Vector{Vector{Int64}}, Vector{Vector{Int64}}, Vector{Int64}, Vector{CartesianIndex{2}}, Matrix{Int64}, Vector{Float64}, Vector{Float64}, Vector{Float64}}}, NamedTuple{(:graph, :indices, :reverse_indices, :upstream_nodes, :subdomain_order, :topo_subdomain, :indices_subdomain, :order), Tuple{Graphs.SimpleGraphs.SimpleDiGraph{Int64}, Vector{CartesianIndex{2}}, Matrix{Int64}, Vector{Vector{Int64}}, Vector{Vector{Int64}}, Vector{Vector{Int64}}, Vector{Vector{Int64}}, Vector{Int64}}}, NamedTuple{(:indices_outlet, :indices_coverage, :reverse_indices), Tuple{Vector{CartesianIndex{2}}, Vector{Vector{CartesianIndex{2}}}, Matrix{Int64}}}, Tuple{}, Vector{Int64}, Vector{Float64}}}, NamedTuple{(:subsurface, :land, :river), Tuple{Wflow.LateralSSF{Float64}, Wflow.SurfaceFlowLand{Float64}, Wflow.SurfaceFlowRiver{Float64, Wflow.SimpleReservoir{Float64}, Nothing}}}, Wflow.SBM{Float64, 4, 5}, Wflow.NCReader{Dates.DateTime}, Wflow.Writer, Wflow.SbmModel}; update_func::typeof(Wflow.update), write_model_output::Bool)\n   @ Wflow ~/.julia/packages/Wflow/aXumd/src/Wflow.jl:205\n [4] run_timestep\n   @ ~/.julia/packages/Wflow/aXumd/src/Wflow.jl:203 [inlined]\n [5] #update#206\n   @ ~/.julia/packages/Wflow/aXumd/src/bmi.jl:53 [inlined]\n [6] update(model::Wflow.Model{NamedTuple{(:land, :river, :reservoir, :lake, :index_river, :frac_toriver), Tuple{NamedTuple{(:graph, :upstream_nodes, :subdomain_order, :topo_subdomain, :indices_subdomain, :order, :indices, :reverse_indices, :xl, :yl, :slope), Tuple{Graphs.SimpleGraphs.SimpleDiGraph{Int64}, Vector{Vector{Int64}}, Vector{Vector{Int64}}, Vector{Vector{Int64}}, Vector{Vector{Int64}}, Vector{Int64}, Vector{CartesianIndex{2}}, Matrix{Int64}, Vector{Float64}, Vector{Float64}, Vector{Float64}}}, NamedTuple{(:graph, :indices, :reverse_indices, :upstream_nodes, :subdomain_order, :topo_subdomain, :indices_subdomain, :order), Tuple{Graphs.SimpleGraphs.SimpleDiGraph{Int64}, Vector{CartesianIndex{2}}, Matrix{Int64}, Vector{Vector{Int64}}, Vector{Vector{Int64}}, Vector{Vector{Int64}}, Vector{Vector{Int64}}, Vector{Int64}}}, NamedTuple{(:indices_outlet, :indices_coverage, :reverse_indices), Tuple{Vector{CartesianIndex{2}}, Vector{Vector{CartesianIndex{2}}}, Matrix{Int64}}}, Tuple{}, Vector{Int64}, Vector{Float64}}}, NamedTuple{(:subsurface, :land, :river), Tuple{Wflow.LateralSSF{Float64}, Wflow.SurfaceFlowLand{Float64}, Wflow.SurfaceFlowRiver{Float64, Wflow.SimpleReservoir{Float64}, Nothing}}}, Wflow.SBM{Float64, 4, 5}, Wflow.NCReader{Dates.DateTime}, Wflow.Writer, Wflow.SbmModel})\n   @ Wflow ~/.julia/packages/Wflow/aXumd/src/bmi.jl:50\n [7] pyjlany_call(self::typeof(BasicModelInterface.update), args_::Py, kwargs_::Py)\n   @ PythonCall ~/.julia/packages/PythonCall/qTEA1/src/jlwrap/any.jl:37\n [8] _pyjl_callmethod(f::Any, self_::Ptr{PythonCall.C.PyObject}, args_::Ptr{PythonCall.C.PyObject}, nargs::Int64)\n   @ PythonCall ~/.julia/packages/PythonCall/qTEA1/src/jlwrap/base.jl:69\n [9] _pyjl_callmethod(o::Ptr{PythonCall.C.PyObject}, args::Ptr{PythonCall.C.PyObject})\n   @ PythonCall.C ~/.julia/packages/PythonCall/qTEA1/src/cpython/jlwrap.jl:47"
     ]
    }
   ],
   "source": [
    "model.update()"
   ]
  },
  {
   "cell_type": "code",
   "execution_count": 8,
   "metadata": {},
   "outputs": [
    {
     "ename": "JuliaError",
     "evalue": "MethodError: Cannot `convert` an object of type CFTime.DateTimeNoLeap to an object of type Dates.DateTime\n\nClosest candidates are:\n  convert(::Type{Dates.DateTime}, !Matched::T2) where T2<:Union{CFTime.DateTimeJulian, CFTime.DateTimeProlepticGregorian, CFTime.DateTimeStandard}\n   @ CFTime ~/.julia/packages/CFTime/n09Um/src/CFTime.jl:308\n  convert(::Type{Dates.DateTime}, !Matched::Dates.Date)\n   @ Dates ~/micromamba/envs/ewatercycle/julia_env/pyjuliapkg/install/share/julia/stdlib/v1.9/Dates/src/conversions.jl:30\n  convert(::Type{Dates.DateTime}, !Matched::Dates.Millisecond)\n   @ Dates ~/micromamba/envs/ewatercycle/julia_env/pyjuliapkg/install/share/julia/stdlib/v1.9/Dates/src/conversions.jl:34\n  ...\n\nStacktrace:\n [1] update_forcing!(model::Wflow.Model{NamedTuple{(:land, :river, :reservoir, :lake, :index_river, :frac_toriver), Tuple{NamedTuple{(:graph, :upstream_nodes, :subdomain_order, :topo_subdomain, :indices_subdomain, :order, :indices, :reverse_indices, :xl, :yl, :slope), Tuple{Graphs.SimpleGraphs.SimpleDiGraph{Int64}, Vector{Vector{Int64}}, Vector{Vector{Int64}}, Vector{Vector{Int64}}, Vector{Vector{Int64}}, Vector{Int64}, Vector{CartesianIndex{2}}, Matrix{Int64}, Vector{Float64}, Vector{Float64}, Vector{Float64}}}, NamedTuple{(:graph, :indices, :reverse_indices, :upstream_nodes, :subdomain_order, :topo_subdomain, :indices_subdomain, :order), Tuple{Graphs.SimpleGraphs.SimpleDiGraph{Int64}, Vector{CartesianIndex{2}}, Matrix{Int64}, Vector{Vector{Int64}}, Vector{Vector{Int64}}, Vector{Vector{Int64}}, Vector{Vector{Int64}}, Vector{Int64}}}, NamedTuple{(:indices_outlet, :indices_coverage, :reverse_indices), Tuple{Vector{CartesianIndex{2}}, Vector{Vector{CartesianIndex{2}}}, Matrix{Int64}}}, Tuple{}, Vector{Int64}, Vector{Float64}}}, NamedTuple{(:subsurface, :land, :river), Tuple{Wflow.LateralSSF{Float64}, Wflow.SurfaceFlowLand{Float64}, Wflow.SurfaceFlowRiver{Float64, Wflow.SimpleReservoir{Float64}, Nothing}}}, Wflow.SBM{Float64, 4, 5}, Wflow.NCReader{Dates.DateTime}, Wflow.Writer, Wflow.SbmModel})\n   @ Wflow ~/.julia/packages/Wflow/aXumd/src/io.jl:268\n [2] load_dynamic_input!(model::Wflow.Model{NamedTuple{(:land, :river, :reservoir, :lake, :index_river, :frac_toriver), Tuple{NamedTuple{(:graph, :upstream_nodes, :subdomain_order, :topo_subdomain, :indices_subdomain, :order, :indices, :reverse_indices, :xl, :yl, :slope), Tuple{Graphs.SimpleGraphs.SimpleDiGraph{Int64}, Vector{Vector{Int64}}, Vector{Vector{Int64}}, Vector{Vector{Int64}}, Vector{Vector{Int64}}, Vector{Int64}, Vector{CartesianIndex{2}}, Matrix{Int64}, Vector{Float64}, Vector{Float64}, Vector{Float64}}}, NamedTuple{(:graph, :indices, :reverse_indices, :upstream_nodes, :subdomain_order, :topo_subdomain, :indices_subdomain, :order), Tuple{Graphs.SimpleGraphs.SimpleDiGraph{Int64}, Vector{CartesianIndex{2}}, Matrix{Int64}, Vector{Vector{Int64}}, Vector{Vector{Int64}}, Vector{Vector{Int64}}, Vector{Vector{Int64}}, Vector{Int64}}}, NamedTuple{(:indices_outlet, :indices_coverage, :reverse_indices), Tuple{Vector{CartesianIndex{2}}, Vector{Vector{CartesianIndex{2}}}, Matrix{Int64}}}, Tuple{}, Vector{Int64}, Vector{Float64}}}, NamedTuple{(:subsurface, :land, :river), Tuple{Wflow.LateralSSF{Float64}, Wflow.SurfaceFlowLand{Float64}, Wflow.SurfaceFlowRiver{Float64, Wflow.SimpleReservoir{Float64}, Nothing}}}, Wflow.SBM{Float64, 4, 5}, Wflow.NCReader{Dates.DateTime}, Wflow.Writer, Wflow.SbmModel})\n   @ Wflow ~/.julia/packages/Wflow/aXumd/src/io.jl:326\n [3] run_timestep(model::Wflow.Model{NamedTuple{(:land, :river, :reservoir, :lake, :index_river, :frac_toriver), Tuple{NamedTuple{(:graph, :upstream_nodes, :subdomain_order, :topo_subdomain, :indices_subdomain, :order, :indices, :reverse_indices, :xl, :yl, :slope), Tuple{Graphs.SimpleGraphs.SimpleDiGraph{Int64}, Vector{Vector{Int64}}, Vector{Vector{Int64}}, Vector{Vector{Int64}}, Vector{Vector{Int64}}, Vector{Int64}, Vector{CartesianIndex{2}}, Matrix{Int64}, Vector{Float64}, Vector{Float64}, Vector{Float64}}}, NamedTuple{(:graph, :indices, :reverse_indices, :upstream_nodes, :subdomain_order, :topo_subdomain, :indices_subdomain, :order), Tuple{Graphs.SimpleGraphs.SimpleDiGraph{Int64}, Vector{CartesianIndex{2}}, Matrix{Int64}, Vector{Vector{Int64}}, Vector{Vector{Int64}}, Vector{Vector{Int64}}, Vector{Vector{Int64}}, Vector{Int64}}}, NamedTuple{(:indices_outlet, :indices_coverage, :reverse_indices), Tuple{Vector{CartesianIndex{2}}, Vector{Vector{CartesianIndex{2}}}, Matrix{Int64}}}, Tuple{}, Vector{Int64}, Vector{Float64}}}, NamedTuple{(:subsurface, :land, :river), Tuple{Wflow.LateralSSF{Float64}, Wflow.SurfaceFlowLand{Float64}, Wflow.SurfaceFlowRiver{Float64, Wflow.SimpleReservoir{Float64}, Nothing}}}, Wflow.SBM{Float64, 4, 5}, Wflow.NCReader{Dates.DateTime}, Wflow.Writer, Wflow.SbmModel}; update_func::typeof(Wflow.update), write_model_output::Bool)\n   @ Wflow ~/.julia/packages/Wflow/aXumd/src/Wflow.jl:205\n [4] run_timestep\n   @ ~/.julia/packages/Wflow/aXumd/src/Wflow.jl:203 [inlined]\n [5] #update#206\n   @ ~/.julia/packages/Wflow/aXumd/src/bmi.jl:53 [inlined]\n [6] update(model::Wflow.Model{NamedTuple{(:land, :river, :reservoir, :lake, :index_river, :frac_toriver), Tuple{NamedTuple{(:graph, :upstream_nodes, :subdomain_order, :topo_subdomain, :indices_subdomain, :order, :indices, :reverse_indices, :xl, :yl, :slope), Tuple{Graphs.SimpleGraphs.SimpleDiGraph{Int64}, Vector{Vector{Int64}}, Vector{Vector{Int64}}, Vector{Vector{Int64}}, Vector{Vector{Int64}}, Vector{Int64}, Vector{CartesianIndex{2}}, Matrix{Int64}, Vector{Float64}, Vector{Float64}, Vector{Float64}}}, NamedTuple{(:graph, :indices, :reverse_indices, :upstream_nodes, :subdomain_order, :topo_subdomain, :indices_subdomain, :order), Tuple{Graphs.SimpleGraphs.SimpleDiGraph{Int64}, Vector{CartesianIndex{2}}, Matrix{Int64}, Vector{Vector{Int64}}, Vector{Vector{Int64}}, Vector{Vector{Int64}}, Vector{Vector{Int64}}, Vector{Int64}}}, NamedTuple{(:indices_outlet, :indices_coverage, :reverse_indices), Tuple{Vector{CartesianIndex{2}}, Vector{Vector{CartesianIndex{2}}}, Matrix{Int64}}}, Tuple{}, Vector{Int64}, Vector{Float64}}}, NamedTuple{(:subsurface, :land, :river), Tuple{Wflow.LateralSSF{Float64}, Wflow.SurfaceFlowLand{Float64}, Wflow.SurfaceFlowRiver{Float64, Wflow.SimpleReservoir{Float64}, Nothing}}}, Wflow.SBM{Float64, 4, 5}, Wflow.NCReader{Dates.DateTime}, Wflow.Writer, Wflow.SbmModel})\n   @ Wflow ~/.julia/packages/Wflow/aXumd/src/bmi.jl:50\n [7] pyjlany_call(self::typeof(BasicModelInterface.update), args_::Py, kwargs_::Py)\n   @ PythonCall ~/.julia/packages/PythonCall/qTEA1/src/jlwrap/any.jl:37\n [8] _pyjl_callmethod(f::Any, self_::Ptr{PythonCall.C.PyObject}, args_::Ptr{PythonCall.C.PyObject}, nargs::Int64)\n   @ PythonCall ~/.julia/packages/PythonCall/qTEA1/src/jlwrap/base.jl:69\n [9] _pyjl_callmethod(o::Ptr{PythonCall.C.PyObject}, args::Ptr{PythonCall.C.PyObject})\n   @ PythonCall.C ~/.julia/packages/PythonCall/qTEA1/src/cpython/jlwrap.jl:47",
     "output_type": "error",
     "traceback": [
      "\u001b[0;31m---------------------------------------------------------------------------\u001b[0m",
      "\u001b[0;31mJuliaError\u001b[0m                                Traceback (most recent call last)",
      "\u001b[1;32m/home/bart/git/pywflow/generate_cmip_forcing.ipynb Cell 8\u001b[0m line \u001b[0;36m1\n\u001b[1;32m     <a href='vscode-notebook-cell:/home/bart/git/pywflow/generate_cmip_forcing.ipynb#X11sZmlsZQ%3D%3D?line=13'>14</a>\u001b[0m dtimes \u001b[39m=\u001b[39m []\n\u001b[1;32m     <a href='vscode-notebook-cell:/home/bart/git/pywflow/generate_cmip_forcing.ipynb#X11sZmlsZQ%3D%3D?line=14'>15</a>\u001b[0m \u001b[39mfor\u001b[39;00m tstep \u001b[39min\u001b[39;00m \u001b[39mrange\u001b[39m(ntimesteps):\n\u001b[0;32m---> <a href='vscode-notebook-cell:/home/bart/git/pywflow/generate_cmip_forcing.ipynb#X11sZmlsZQ%3D%3D?line=15'>16</a>\u001b[0m     model\u001b[39m.\u001b[39;49mupdate()\n\u001b[1;32m     <a href='vscode-notebook-cell:/home/bart/git/pywflow/generate_cmip_forcing.ipynb#X11sZmlsZQ%3D%3D?line=16'>17</a>\u001b[0m     q_locs[tstep] \u001b[39m=\u001b[39m model\u001b[39m.\u001b[39mget_value_at_coords(\u001b[39m\"\u001b[39m\u001b[39mlateral.river.q_av\u001b[39m\u001b[39m\"\u001b[39m, lats, lons)\n\u001b[1;32m     <a href='vscode-notebook-cell:/home/bart/git/pywflow/generate_cmip_forcing.ipynb#X11sZmlsZQ%3D%3D?line=17'>18</a>\u001b[0m     dtimes\u001b[39m.\u001b[39mappend(model\u001b[39m.\u001b[39mtime_as_datetime)\n",
      "File \u001b[0;32m~/micromamba/envs/ewatercycle/lib/python3.10/site-packages/ewatercycle/base/model.py:176\u001b[0m, in \u001b[0;36meWaterCycleModel.update\u001b[0;34m(self)\u001b[0m\n\u001b[1;32m    174\u001b[0m \u001b[39mdef\u001b[39;00m \u001b[39mupdate\u001b[39m(\u001b[39mself\u001b[39m) \u001b[39m-\u001b[39m\u001b[39m>\u001b[39m \u001b[39mNone\u001b[39;00m:\n\u001b[1;32m    175\u001b[0m \u001b[39m    \u001b[39m\u001b[39m\"\"\"Advance model state by one time step.\"\"\"\u001b[39;00m\n\u001b[0;32m--> 176\u001b[0m     \u001b[39mself\u001b[39;49m\u001b[39m.\u001b[39;49m_bmi\u001b[39m.\u001b[39;49mupdate()\n",
      "File \u001b[0;32m~/micromamba/envs/ewatercycle/lib/python3.10/site-packages/grpc4bmi/bmi_optionaldest.py:52\u001b[0m, in \u001b[0;36mOptionalDestBmi.update\u001b[0;34m(self)\u001b[0m\n\u001b[1;32m     51\u001b[0m \u001b[39mdef\u001b[39;00m \u001b[39mupdate\u001b[39m(\u001b[39mself\u001b[39m) \u001b[39m-\u001b[39m\u001b[39m>\u001b[39m \u001b[39mNone\u001b[39;00m:\n\u001b[0;32m---> 52\u001b[0m     \u001b[39mself\u001b[39;49m\u001b[39m.\u001b[39;49morigin\u001b[39m.\u001b[39;49mupdate()\n",
      "File \u001b[0;32m~/micromamba/envs/ewatercycle/lib/python3.10/site-packages/grpc4bmi/bmi_julia_model.py:77\u001b[0m, in \u001b[0;36mBmiJulia.update\u001b[0;34m(self)\u001b[0m\n\u001b[1;32m     69\u001b[0m \u001b[39mdef\u001b[39;00m \u001b[39mupdate\u001b[39m(\u001b[39mself\u001b[39m) \u001b[39m-\u001b[39m\u001b[39m>\u001b[39m \u001b[39mNone\u001b[39;00m:\n\u001b[1;32m     70\u001b[0m \u001b[39m    \u001b[39m\u001b[39m\"\"\"Advance model state by one time step.\u001b[39;00m\n\u001b[1;32m     71\u001b[0m \u001b[39m    Perform all tasks that take place within one pass through the model's\u001b[39;00m\n\u001b[1;32m     72\u001b[0m \u001b[39m    time loop. This typically includes incrementing all of the model's\u001b[39;00m\n\u001b[0;32m   (...)\u001b[0m\n\u001b[1;32m     75\u001b[0m \u001b[39m    method can return with no action.\u001b[39;00m\n\u001b[1;32m     76\u001b[0m \u001b[39m    \"\"\"\u001b[39;00m\n\u001b[0;32m---> 77\u001b[0m     \u001b[39mself\u001b[39;49m\u001b[39m.\u001b[39;49mimplementation\u001b[39m.\u001b[39;49mupdate(\u001b[39mself\u001b[39;49m\u001b[39m.\u001b[39;49mstate)\n",
      "File \u001b[0;32m~/.julia/packages/PythonCall/qTEA1/src/jlwrap/any.jl:208\u001b[0m, in \u001b[0;36m__call__\u001b[0;34m(self, *args, **kwargs)\u001b[0m\n\u001b[1;32m    206\u001b[0m     return ValueBase.__dir__(self) + self._jl_callmethod($(pyjl_methodnum(pyjlany_dir)))\n\u001b[1;32m    207\u001b[0m def __call__(self, *args, **kwargs):\n\u001b[0;32m--> 208\u001b[0m     return self._jl_callmethod($(pyjl_methodnum(pyjlany_call)), args, kwargs)\n\u001b[1;32m    209\u001b[0m def __bool__(self):\n\u001b[1;32m    210\u001b[0m     return True\n",
      "\u001b[0;31mJuliaError\u001b[0m: MethodError: Cannot `convert` an object of type CFTime.DateTimeNoLeap to an object of type Dates.DateTime\n\nClosest candidates are:\n  convert(::Type{Dates.DateTime}, !Matched::T2) where T2<:Union{CFTime.DateTimeJulian, CFTime.DateTimeProlepticGregorian, CFTime.DateTimeStandard}\n   @ CFTime ~/.julia/packages/CFTime/n09Um/src/CFTime.jl:308\n  convert(::Type{Dates.DateTime}, !Matched::Dates.Date)\n   @ Dates ~/micromamba/envs/ewatercycle/julia_env/pyjuliapkg/install/share/julia/stdlib/v1.9/Dates/src/conversions.jl:30\n  convert(::Type{Dates.DateTime}, !Matched::Dates.Millisecond)\n   @ Dates ~/micromamba/envs/ewatercycle/julia_env/pyjuliapkg/install/share/julia/stdlib/v1.9/Dates/src/conversions.jl:34\n  ...\n\nStacktrace:\n [1] update_forcing!(model::Wflow.Model{NamedTuple{(:land, :river, :reservoir, :lake, :index_river, :frac_toriver), Tuple{NamedTuple{(:graph, :upstream_nodes, :subdomain_order, :topo_subdomain, :indices_subdomain, :order, :indices, :reverse_indices, :xl, :yl, :slope), Tuple{Graphs.SimpleGraphs.SimpleDiGraph{Int64}, Vector{Vector{Int64}}, Vector{Vector{Int64}}, Vector{Vector{Int64}}, Vector{Vector{Int64}}, Vector{Int64}, Vector{CartesianIndex{2}}, Matrix{Int64}, Vector{Float64}, Vector{Float64}, Vector{Float64}}}, NamedTuple{(:graph, :indices, :reverse_indices, :upstream_nodes, :subdomain_order, :topo_subdomain, :indices_subdomain, :order), Tuple{Graphs.SimpleGraphs.SimpleDiGraph{Int64}, Vector{CartesianIndex{2}}, Matrix{Int64}, Vector{Vector{Int64}}, Vector{Vector{Int64}}, Vector{Vector{Int64}}, Vector{Vector{Int64}}, Vector{Int64}}}, NamedTuple{(:indices_outlet, :indices_coverage, :reverse_indices), Tuple{Vector{CartesianIndex{2}}, Vector{Vector{CartesianIndex{2}}}, Matrix{Int64}}}, Tuple{}, Vector{Int64}, Vector{Float64}}}, NamedTuple{(:subsurface, :land, :river), Tuple{Wflow.LateralSSF{Float64}, Wflow.SurfaceFlowLand{Float64}, Wflow.SurfaceFlowRiver{Float64, Wflow.SimpleReservoir{Float64}, Nothing}}}, Wflow.SBM{Float64, 4, 5}, Wflow.NCReader{Dates.DateTime}, Wflow.Writer, Wflow.SbmModel})\n   @ Wflow ~/.julia/packages/Wflow/aXumd/src/io.jl:268\n [2] load_dynamic_input!(model::Wflow.Model{NamedTuple{(:land, :river, :reservoir, :lake, :index_river, :frac_toriver), Tuple{NamedTuple{(:graph, :upstream_nodes, :subdomain_order, :topo_subdomain, :indices_subdomain, :order, :indices, :reverse_indices, :xl, :yl, :slope), Tuple{Graphs.SimpleGraphs.SimpleDiGraph{Int64}, Vector{Vector{Int64}}, Vector{Vector{Int64}}, Vector{Vector{Int64}}, Vector{Vector{Int64}}, Vector{Int64}, Vector{CartesianIndex{2}}, Matrix{Int64}, Vector{Float64}, Vector{Float64}, Vector{Float64}}}, NamedTuple{(:graph, :indices, :reverse_indices, :upstream_nodes, :subdomain_order, :topo_subdomain, :indices_subdomain, :order), Tuple{Graphs.SimpleGraphs.SimpleDiGraph{Int64}, Vector{CartesianIndex{2}}, Matrix{Int64}, Vector{Vector{Int64}}, Vector{Vector{Int64}}, Vector{Vector{Int64}}, Vector{Vector{Int64}}, Vector{Int64}}}, NamedTuple{(:indices_outlet, :indices_coverage, :reverse_indices), Tuple{Vector{CartesianIndex{2}}, Vector{Vector{CartesianIndex{2}}}, Matrix{Int64}}}, Tuple{}, Vector{Int64}, Vector{Float64}}}, NamedTuple{(:subsurface, :land, :river), Tuple{Wflow.LateralSSF{Float64}, Wflow.SurfaceFlowLand{Float64}, Wflow.SurfaceFlowRiver{Float64, Wflow.SimpleReservoir{Float64}, Nothing}}}, Wflow.SBM{Float64, 4, 5}, Wflow.NCReader{Dates.DateTime}, Wflow.Writer, Wflow.SbmModel})\n   @ Wflow ~/.julia/packages/Wflow/aXumd/src/io.jl:326\n [3] run_timestep(model::Wflow.Model{NamedTuple{(:land, :river, :reservoir, :lake, :index_river, :frac_toriver), Tuple{NamedTuple{(:graph, :upstream_nodes, :subdomain_order, :topo_subdomain, :indices_subdomain, :order, :indices, :reverse_indices, :xl, :yl, :slope), Tuple{Graphs.SimpleGraphs.SimpleDiGraph{Int64}, Vector{Vector{Int64}}, Vector{Vector{Int64}}, Vector{Vector{Int64}}, Vector{Vector{Int64}}, Vector{Int64}, Vector{CartesianIndex{2}}, Matrix{Int64}, Vector{Float64}, Vector{Float64}, Vector{Float64}}}, NamedTuple{(:graph, :indices, :reverse_indices, :upstream_nodes, :subdomain_order, :topo_subdomain, :indices_subdomain, :order), Tuple{Graphs.SimpleGraphs.SimpleDiGraph{Int64}, Vector{CartesianIndex{2}}, Matrix{Int64}, Vector{Vector{Int64}}, Vector{Vector{Int64}}, Vector{Vector{Int64}}, Vector{Vector{Int64}}, Vector{Int64}}}, NamedTuple{(:indices_outlet, :indices_coverage, :reverse_indices), Tuple{Vector{CartesianIndex{2}}, Vector{Vector{CartesianIndex{2}}}, Matrix{Int64}}}, Tuple{}, Vector{Int64}, Vector{Float64}}}, NamedTuple{(:subsurface, :land, :river), Tuple{Wflow.LateralSSF{Float64}, Wflow.SurfaceFlowLand{Float64}, Wflow.SurfaceFlowRiver{Float64, Wflow.SimpleReservoir{Float64}, Nothing}}}, Wflow.SBM{Float64, 4, 5}, Wflow.NCReader{Dates.DateTime}, Wflow.Writer, Wflow.SbmModel}; update_func::typeof(Wflow.update), write_model_output::Bool)\n   @ Wflow ~/.julia/packages/Wflow/aXumd/src/Wflow.jl:205\n [4] run_timestep\n   @ ~/.julia/packages/Wflow/aXumd/src/Wflow.jl:203 [inlined]\n [5] #update#206\n   @ ~/.julia/packages/Wflow/aXumd/src/bmi.jl:53 [inlined]\n [6] update(model::Wflow.Model{NamedTuple{(:land, :river, :reservoir, :lake, :index_river, :frac_toriver), Tuple{NamedTuple{(:graph, :upstream_nodes, :subdomain_order, :topo_subdomain, :indices_subdomain, :order, :indices, :reverse_indices, :xl, :yl, :slope), Tuple{Graphs.SimpleGraphs.SimpleDiGraph{Int64}, Vector{Vector{Int64}}, Vector{Vector{Int64}}, Vector{Vector{Int64}}, Vector{Vector{Int64}}, Vector{Int64}, Vector{CartesianIndex{2}}, Matrix{Int64}, Vector{Float64}, Vector{Float64}, Vector{Float64}}}, NamedTuple{(:graph, :indices, :reverse_indices, :upstream_nodes, :subdomain_order, :topo_subdomain, :indices_subdomain, :order), Tuple{Graphs.SimpleGraphs.SimpleDiGraph{Int64}, Vector{CartesianIndex{2}}, Matrix{Int64}, Vector{Vector{Int64}}, Vector{Vector{Int64}}, Vector{Vector{Int64}}, Vector{Vector{Int64}}, Vector{Int64}}}, NamedTuple{(:indices_outlet, :indices_coverage, :reverse_indices), Tuple{Vector{CartesianIndex{2}}, Vector{Vector{CartesianIndex{2}}}, Matrix{Int64}}}, Tuple{}, Vector{Int64}, Vector{Float64}}}, NamedTuple{(:subsurface, :land, :river), Tuple{Wflow.LateralSSF{Float64}, Wflow.SurfaceFlowLand{Float64}, Wflow.SurfaceFlowRiver{Float64, Wflow.SimpleReservoir{Float64}, Nothing}}}, Wflow.SBM{Float64, 4, 5}, Wflow.NCReader{Dates.DateTime}, Wflow.Writer, Wflow.SbmModel})\n   @ Wflow ~/.julia/packages/Wflow/aXumd/src/bmi.jl:50\n [7] pyjlany_call(self::typeof(BasicModelInterface.update), args_::Py, kwargs_::Py)\n   @ PythonCall ~/.julia/packages/PythonCall/qTEA1/src/jlwrap/any.jl:37\n [8] _pyjl_callmethod(f::Any, self_::Ptr{PythonCall.C.PyObject}, args_::Ptr{PythonCall.C.PyObject}, nargs::Int64)\n   @ PythonCall ~/.julia/packages/PythonCall/qTEA1/src/jlwrap/base.jl:69\n [9] _pyjl_callmethod(o::Ptr{PythonCall.C.PyObject}, args::Ptr{PythonCall.C.PyObject})\n   @ PythonCall.C ~/.julia/packages/PythonCall/qTEA1/src/cpython/jlwrap.jl:47"
     ]
    }
   ],
   "source": [
    "locs = [\n",
    "    (53.274166, -0.761666),\n",
    "    (53.765833, -0.986666),\n",
    "]\n",
    "\n",
    "lats = [lat for lat, _ in locs]\n",
    "lons = [lon for _, lon in locs]\n",
    "\n",
    "ntimesteps = 20 # int(model._bmi.get_end_time() / model._bmi.get_time_step()) - 1\n",
    "q_locs = np.zeros((\n",
    "    ntimesteps,\n",
    "    2,\n",
    "))\n",
    "dtimes = []\n",
    "for tstep in range(ntimesteps):\n",
    "    model.update()\n",
    "    q_locs[tstep] = model.get_value_at_coords(\"lateral.river.q_av\", lats, lons)\n",
    "    dtimes.append(model.time_as_datetime)\n",
    "\n",
    "import matplotlib.pyplot as plt\n",
    "plt.plot(dtimes, q_locs[:, 0])\n",
    "plt.plot(dtimes, q_locs[:, 1])\n",
    "plt.xlabel(\"time\")\n",
    "plt.ylabel(\"discharge [m3/s]\")"
   ]
  },
  {
   "cell_type": "code",
   "execution_count": null,
   "metadata": {},
   "outputs": [],
   "source": [
    "# supported by Wflow: CFTime.DateTimeJulian, CFTime.DateTimeProlepticGregorian, CFTime.DateTimeStandard\n"
   ]
  }
 ],
 "metadata": {
  "kernelspec": {
   "display_name": "Python 3",
   "language": "python",
   "name": "python3"
  },
  "language_info": {
   "codemirror_mode": {
    "name": "ipython",
    "version": 3
   },
   "file_extension": ".py",
   "mimetype": "text/x-python",
   "name": "python",
   "nbconvert_exporter": "python",
   "pygments_lexer": "ipython3",
   "version": "3.10.0"
  }
 },
 "nbformat": 4,
 "nbformat_minor": 2
}
