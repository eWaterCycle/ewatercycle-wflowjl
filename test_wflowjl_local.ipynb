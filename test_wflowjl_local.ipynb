{
 "cells": [
  {
   "cell_type": "markdown",
   "metadata": {},
   "source": [
    "# Wflow.jl in eWaterCycle\n",
    "\n",
    "To install Wflow.jl, uncomment this first block before running the rest of the code:"
   ]
  },
  {
   "cell_type": "code",
   "execution_count": 21,
   "metadata": {},
   "outputs": [],
   "source": [
    "# from ewatercycle_wflowjl.model import install_wflow\n",
    "# install_wflow()"
   ]
  },
  {
   "cell_type": "code",
   "execution_count": 2,
   "metadata": {},
   "outputs": [],
   "source": [
    "from pathlib import Path\n",
    "import ewatercycle\n",
    "\n",
    "from ewatercycle_wflowjl.forcing.forcing import WflowJlForcing\n",
    "from ewatercycle_wflowjl.model import WflowJl"
   ]
  },
  {
   "cell_type": "code",
   "execution_count": 4,
   "metadata": {},
   "outputs": [],
   "source": [
    "from ewatercycle.base.parameter_set import ParameterSet\n",
    "\n",
    "parameters = ParameterSet(\n",
    "    name=\"humber\",\n",
    "    directory=Path(\"/media/bart/OS/Users/BartSchilperoort/julia_wflow\"),\n",
    "    target_model=\"WflowJl\",\n",
    "    config=\"sbm_config.toml\"   \n",
    ")"
   ]
  },
  {
   "cell_type": "code",
   "execution_count": 5,
   "metadata": {},
   "outputs": [],
   "source": [
    "model = WflowJl(\n",
    "    parameter_set=parameters,\n",
    ")"
   ]
  },
  {
   "cell_type": "code",
   "execution_count": 6,
   "metadata": {},
   "outputs": [],
   "source": [
    "cfg_file,_ = model.setup()"
   ]
  },
  {
   "cell_type": "code",
   "execution_count": 7,
   "metadata": {},
   "outputs": [
    {
     "name": "stderr",
     "output_type": "stream",
     "text": [
      "[ Info: Initialize model variables for model type `sbm`.\n",
      "[ Info: Cyclic parameters are provided by `/media/bart/OS/Users/BartSchilperoort/julia_wflow/staticmaps-moselle.nc`.\n",
      "[ Info: Forcing parameters are provided by `/media/bart/OS/Users/BartSchilperoort/julia_wflow/forcing-moselle.nc`.\n",
      "[ Info: Set `vertical.precipitation` using NetCDF variable `precip` as forcing parameter.\n",
      "[ Info: Set `vertical.temperature` using NetCDF variable `temp` as forcing parameter.\n",
      "[ Info: Set `vertical.potential_evaporation` using NetCDF variable `pet` as forcing parameter.\n",
      "[ Info: Set `vertical.leaf_area_index` using NetCDF variable `LAI` as cyclic parameter.\n",
      "┌ Info: General model settings\n",
      "│   reservoirs = true\n",
      "│   lakes = false\n",
      "│   snow = true\n",
      "│   masswasting = true\n",
      "└   glacier = false\n",
      "[ Info: Set `subcatchment` using NetCDF variable `wflow_subcatch`.\n",
      "[ Info: Set `river_location` using NetCDF variable `wflow_river`.\n",
      "[ Info: Set `lateral.river.width` using NetCDF variable `wflow_riverwidth`.\n",
      "[ Info: Set `lateral.river.length` using NetCDF variable `wflow_riverlength`.\n",
      "[ Info: Set `vertical.cfmax` using NetCDF variable `Cfmax`.\n",
      "[ Info: Set `vertical.tt` using NetCDF variable `TT`.\n",
      "[ Info: Set `vertical.tti` using NetCDF variable `TTI`.\n",
      "[ Info: Set `vertical.ttm` using NetCDF variable `TTM`.\n",
      "[ Info: Set `vertical.whc` using default value `0.1`.\n",
      "[ Info: Set `vertical.w_soil` using default value `0.1125`.\n",
      "[ Info: Set `vertical.cf_soil` using NetCDF variable `cf_soil`.\n",
      "[ Info: Set `vertical.g_tt` using default value `0.0`.\n",
      "[ Info: Set `vertical.g_cfmax` using default value `3.0`.\n",
      "[ Info: Set `vertical.g_sifrac` using default value `0.001`.\n",
      "[ Info: Set `vertical.glacierfrac` using default value `0.0`.\n",
      "[ Info: Set `vertical.glacierstore` using default value `5500.0`.\n",
      "[ Info: Set `vertical.theta_s` using NetCDF variable `thetaS`.\n",
      "[ Info: Set `vertical.theta_r` using NetCDF variable `thetaR`.\n",
      "[ Info: NetCDF parameter `KsatVer` is modified with scale `1.0` and offset `0.0`.\n",
      "[ Info: Set `vertical.kv_0` using NetCDF variable `KsatVer`.\n",
      "[ Info: Set `vertical.f` using NetCDF variable `f`.\n",
      "[ Info: Set `vertical.hb` using default value `10.0`.\n",
      "[ Info: Set `vertical.soilthickness` using NetCDF variable `SoilThickness`.\n",
      "[ Info: Set `vertical.infiltcappath` using NetCDF variable `InfiltCapPath`.\n",
      "[ Info: Set `vertical.infiltcapsoil` using NetCDF variable `InfiltCapSoil`.\n",
      "[ Info: Set `vertical.maxleakage` using NetCDF variable `MaxLeakage`.\n",
      "[ Info: Set `vertical.c` using NetCDF variable `c`.\n",
      "[ Info: Set `vertical.kvfrac` using default value `1.0`.\n",
      "[ Info: Set `vertical.waterfrac` using NetCDF variable `WaterFrac`.\n",
      "[ Info: Set `vertical.pathfrac` using NetCDF variable `PathFrac`.\n",
      "[ Info: Set `vertical.rootingdepth` using NetCDF variable `RootingDepth`.\n",
      "[ Info: Set `vertical.rootdistpar` using NetCDF variable `rootdistpar`.\n",
      "[ Info: Set `vertical.cap_hmax` using default value `2000.0`.\n",
      "[ Info: Set `vertical.cap_n` using default value `2.0`.\n",
      "[ Info: Set `vertical.et_reftopot` using default value `1.0`.\n",
      "[ Info: Set `vertical.specific_leaf` using NetCDF variable `Sl`.\n",
      "[ Info: Set `vertical.storage_wood` using NetCDF variable `Swood`.\n",
      "[ Info: Set `vertical.kext` using NetCDF variable `Kext`.\n",
      "[ Info: Set `lateral.river.reservoir.locs` using NetCDF variable `wflow_reservoirlocs`.\n",
      "[ Info: Set `lateral.river.reservoir.areas` using NetCDF variable `wflow_reservoirareas`.\n",
      "[ Info: Set `lateral.river.reservoir.demand` using NetCDF variable `ResDemand`.\n",
      "[ Info: Set `lateral.river.reservoir.maxrelease` using NetCDF variable `ResMaxRelease`.\n",
      "[ Info: Set `lateral.river.reservoir.maxvolume` using NetCDF variable `ResMaxVolume`.\n",
      "[ Info: Set `lateral.river.reservoir.area` using NetCDF variable `ResSimpleArea`.\n",
      "[ Info: Set `lateral.river.reservoir.targetfullfrac` using NetCDF variable `ResTargetFullFrac`.\n",
      "[ Info: Set `lateral.river.reservoir.targetminfrac` using NetCDF variable `ResTargetMinFrac`.\n",
      "[ Info: Read `2` reservoir locations.\n",
      "[ Info: Set `ldd` using NetCDF variable `wflow_ldd`.\n",
      "[ Info: Set `lateral.land.slope` using NetCDF variable `Slope`.\n",
      "[ Info: Set `lateral.subsurface.ksathorfrac` using NetCDF variable `KsatHorFrac`.\n",
      "┌ Info: Kinematic wave approach is used for overland flow.\n",
      "└   iterate = true\n",
      "[ Info: Set `lateral.land.n` using NetCDF variable `N`.\n",
      "┌ Info: Kinematic wave approach is used for river flow.\n",
      "└   iterate = true\n",
      "[ Info: Set `lateral.river.n` using NetCDF variable `N_River`.\n",
      "[ Info: Set `lateral.river.bankfull_depth` using NetCDF variable `RiverDepth`.\n",
      "[ Info: Set `lateral.river.slope` using NetCDF variable `RiverSlope`.\n",
      "[ Info: Create an output NetCDF file `/media/bart/OS/Users/BartSchilperoort/julia_wflow/output_moselle.nc` for grid data, using compression level `0`.\n",
      "[ Info: Create a state output NetCDF file `/media/bart/OS/Users/BartSchilperoort/julia_wflow/outstates-moselle.nc`.\n",
      "[ Info: Create an output NetCDF file `/media/bart/OS/Users/BartSchilperoort/julia_wflow/outstates-moselle.nc` for scalar data.\n",
      "[ Info: Set `gauges` using NetCDF variable `wflow_gauges_grdc`.\n",
      "[ Info: Set `gauges` using NetCDF variable `wflow_gauges_grdc`.\n",
      "┌ Info: Adding scalar output for a map with a reducer function.\n",
      "│   fileformat = \"NetCDF\"\n",
      "│   param = \"lateral.river.q\"\n",
      "│   mapname = \"gauges\"\n",
      "└   reducer_name = \"only\"\n",
      "┌ Info: Adding scalar output for coordinate.\n",
      "│   fileformat = \"NetCDF\"\n",
      "│   param = \"vertical.temperature\"\n",
      "│   x = 6.255\n",
      "└   y = 50.012\n",
      "┌ Info: Adding scalar output for 2D index.\n",
      "│   fileformat = \"NetCDF\"\n",
      "│   param = \"vertical.temperature\"\n",
      "│   index =\n",
      "│    Dict{String, Any} with 2 entries:\n",
      "│      \"x\" => 100\n",
      "└      \"y\" => 264\n",
      "[ Info: Create an output CSV file `/media/bart/OS/Users/BartSchilperoort/julia_wflow/output_moselle.csv` for scalar data.\n",
      "[ Info: Set `gauges` using NetCDF variable `wflow_gauges_grdc`.\n",
      "[ Info: Set `subcatchment` using NetCDF variable `wflow_subcatch`.\n",
      "┌ Info: Adding scalar output of all active cells with reducer function.\n",
      "│   fileformat = \"CSV\"\n",
      "│   param = \"lateral.river.q\"\n",
      "└   reducer_name = \"maximum\"\n",
      "┌ Info: Adding scalar output for linear index.\n",
      "│   fileformat = \"CSV\"\n",
      "│   param = \"lateral.river.reservoir.volume\"\n",
      "└   index = 1\n",
      "┌ Info: Adding scalar output for coordinate.\n",
      "│   fileformat = \"CSV\"\n",
      "│   param = \"vertical.temperature\"\n",
      "│   x = 6.255\n",
      "└   y = 50.012\n",
      "┌ Info: Adding scalar output for coordinate.\n",
      "│   fileformat = \"CSV\"\n",
      "│   param = \"vertical.vwc\"\n",
      "│   x = 6.255\n",
      "└   y = 50.012\n",
      "┌ Info: Adding scalar output for 2D index.\n",
      "│   fileformat = \"CSV\"\n",
      "│   param = \"vertical.temperature\"\n",
      "│   index =\n",
      "│    Dict{String, Any} with 2 entries:\n",
      "│      \"x\" => 100\n",
      "└      \"y\" => 264\n",
      "[ Info: Set `gauges` using NetCDF variable `wflow_gauges_grdc`.\n",
      "┌ Info: Adding scalar output for a map with a reducer function.\n",
      "│   fileformat = \"CSV\"\n",
      "│   param = \"lateral.river.q\"\n",
      "│   mapname = \"gauges\"\n",
      "└   reducer_name = \"only\"\n",
      "[ Info: Set `subcatchment` using NetCDF variable `wflow_subcatch`.\n",
      "┌ Info: Adding scalar output for a map with a reducer function.\n",
      "│   fileformat = \"CSV\"\n",
      "│   param = \"vertical.recharge\"\n",
      "│   mapname = \"subcatchment\"\n",
      "└   reducer_name = \"mean\"\n",
      "[ Info: Set initial conditions from default values.\n",
      "[ Info: Initialized model\n"
     ]
    }
   ],
   "source": [
    "model.initialize(cfg_file)"
   ]
  },
  {
   "cell_type": "code",
   "execution_count": 8,
   "metadata": {},
   "outputs": [
    {
     "data": {
      "text/plain": [
       "0"
      ]
     },
     "execution_count": 8,
     "metadata": {},
     "output_type": "execute_result"
    }
   ],
   "source": [
    "model.bmi.get_grid_rank(0)"
   ]
  },
  {
   "cell_type": "code",
   "execution_count": 9,
   "metadata": {},
   "outputs": [
    {
     "data": {
      "text/plain": [
       "'float64'"
      ]
     },
     "execution_count": 9,
     "metadata": {},
     "output_type": "execute_result"
    }
   ],
   "source": [
    "model.bmi.get_var_type('vertical.vwc')"
   ]
  },
  {
   "cell_type": "code",
   "execution_count": 10,
   "metadata": {},
   "outputs": [
    {
     "data": {
      "text/plain": [
       "'float64'"
      ]
     },
     "execution_count": 10,
     "metadata": {},
     "output_type": "execute_result"
    }
   ],
   "source": [
    "model.bmi.get_var_type('lateral.subsurface.to_river')"
   ]
  },
  {
   "cell_type": "code",
   "execution_count": 11,
   "metadata": {},
   "outputs": [
    {
     "data": {
      "text/plain": [
       "7"
      ]
     },
     "execution_count": 11,
     "metadata": {},
     "output_type": "execute_result"
    }
   ],
   "source": [
    "model.bmi.get_var_grid(\"lateral.subsurface.to_river\")"
   ]
  },
  {
   "cell_type": "code",
   "execution_count": 12,
   "metadata": {},
   "outputs": [
    {
     "data": {
      "text/plain": [
       "50063"
      ]
     },
     "execution_count": 12,
     "metadata": {},
     "output_type": "execute_result"
    }
   ],
   "source": [
    "model.bmi.get_grid_node_count(7)"
   ]
  },
  {
   "cell_type": "code",
   "execution_count": 13,
   "metadata": {},
   "outputs": [
    {
     "data": {
      "text/plain": [
       "2"
      ]
     },
     "execution_count": 13,
     "metadata": {},
     "output_type": "execute_result"
    }
   ],
   "source": [
    "model.bmi.get_grid_rank(2)"
   ]
  },
  {
   "cell_type": "code",
   "execution_count": 14,
   "metadata": {},
   "outputs": [
    {
     "data": {
      "text/plain": [
       "4"
      ]
     },
     "execution_count": 14,
     "metadata": {},
     "output_type": "execute_result"
    }
   ],
   "source": [
    "model.bmi.get_var_grid(\"lateral.river.q_av\")"
   ]
  },
  {
   "cell_type": "code",
   "execution_count": 15,
   "metadata": {},
   "outputs": [],
   "source": [
    "model.update()"
   ]
  },
  {
   "cell_type": "code",
   "execution_count": 16,
   "metadata": {},
   "outputs": [
    {
     "data": {
      "text/plain": [
       "'unstructured'"
      ]
     },
     "execution_count": 16,
     "metadata": {},
     "output_type": "execute_result"
    }
   ],
   "source": [
    "model.bmi.get_grid_type(4)"
   ]
  },
  {
   "cell_type": "code",
   "execution_count": 17,
   "metadata": {},
   "outputs": [],
   "source": [
    "import numpy as np\n",
    "\n",
    "var = \"lateral.river.q_av\"\n",
    "grid = model.bmi.get_var_grid(var)\n",
    "\n",
    "assert model.bmi.get_grid_type(grid) == \"unstructured\"\n",
    "\n",
    "loc = model.bmi.get_var_location(var)\n",
    "\n",
    "if loc == \"node\":\n",
    "    size = model.bmi.get_grid_node_count(grid)\n",
    "elif loc == \"edge\":\n",
    "    size = model.bmi.get_grid_edge_count(grid)\n",
    "else:\n",
    "    raise ValueError()\n",
    "\n",
    "dest = np.zeros(size, dtype=\"float64\")\n",
    "q_av = model.bmi.get_value(\"lateral.river.q_av\", dest)"
   ]
  },
  {
   "cell_type": "code",
   "execution_count": 18,
   "metadata": {},
   "outputs": [
    {
     "data": {
      "text/plain": [
       "array([0.59106113, 0.09000111, 0.08280664, ..., 0.00814854, 0.00643498,\n",
       "       0.00453402])"
      ]
     },
     "execution_count": 18,
     "metadata": {},
     "output_type": "execute_result"
    }
   ],
   "source": [
    "q_av"
   ]
  },
  {
   "cell_type": "code",
   "execution_count": 19,
   "metadata": {},
   "outputs": [],
   "source": [
    "vars = model.bmi.get_output_var_names()"
   ]
  },
  {
   "cell_type": "code",
   "execution_count": 20,
   "metadata": {},
   "outputs": [
    {
     "data": {
      "text/plain": [
       "['vertical.nlayers',\n",
       " 'vertical.n_unsatlayers',\n",
       " 'vertical.riverfrac',\n",
       " 'vertical.θₛ',\n",
       " 'vertical.θᵣ',\n",
       " 'vertical.kv₀',\n",
       " 'vertical.kvfrac[1]',\n",
       " 'vertical.kvfrac[2]',\n",
       " 'vertical.kvfrac[3]',\n",
       " 'vertical.kvfrac[4]',\n",
       " 'vertical.hb',\n",
       " 'vertical.soilthickness',\n",
       " 'vertical.act_thickl[1]',\n",
       " 'vertical.act_thickl[2]',\n",
       " 'vertical.act_thickl[3]',\n",
       " 'vertical.act_thickl[4]',\n",
       " 'vertical.sumlayers[1]',\n",
       " 'vertical.sumlayers[2]',\n",
       " 'vertical.sumlayers[3]',\n",
       " 'vertical.sumlayers[4]',\n",
       " 'vertical.sumlayers[5]',\n",
       " 'vertical.infiltcappath',\n",
       " 'vertical.infiltcapsoil',\n",
       " 'vertical.maxleakage',\n",
       " 'vertical.waterfrac',\n",
       " 'vertical.pathfrac',\n",
       " 'vertical.rootingdepth',\n",
       " 'vertical.rootdistpar',\n",
       " 'vertical.cap_hmax',\n",
       " 'vertical.cap_n',\n",
       " 'vertical.et_reftopot',\n",
       " 'vertical.c[1]',\n",
       " 'vertical.c[2]',\n",
       " 'vertical.c[3]',\n",
       " 'vertical.c[4]',\n",
       " 'vertical.stemflow',\n",
       " 'vertical.throughfall',\n",
       " 'vertical.f',\n",
       " 'vertical.ustorelayerdepth[1]',\n",
       " 'vertical.ustorelayerdepth[2]',\n",
       " 'vertical.ustorelayerdepth[3]',\n",
       " 'vertical.ustorelayerdepth[4]',\n",
       " 'vertical.satwaterdepth',\n",
       " 'vertical.zi',\n",
       " 'vertical.soilwatercapacity',\n",
       " 'vertical.canopystorage',\n",
       " 'vertical.cmax',\n",
       " 'vertical.canopygapfraction',\n",
       " 'vertical.e_r',\n",
       " 'vertical.precipitation',\n",
       " 'vertical.temperature',\n",
       " 'vertical.potential_evaporation',\n",
       " 'vertical.pottrans_soil',\n",
       " 'vertical.transpiration',\n",
       " 'vertical.ae_ustore',\n",
       " 'vertical.interception',\n",
       " 'vertical.soilevap',\n",
       " 'vertical.soilevapsat',\n",
       " 'vertical.actcapflux',\n",
       " 'vertical.actevapsat',\n",
       " 'vertical.actevap',\n",
       " 'vertical.runoff_river',\n",
       " 'vertical.runoff_land',\n",
       " 'vertical.ae_openw_l',\n",
       " 'vertical.ae_openw_r',\n",
       " 'vertical.net_runoff_river',\n",
       " 'vertical.avail_forinfilt',\n",
       " 'vertical.actinfilt',\n",
       " 'vertical.actinfiltsoil',\n",
       " 'vertical.actinfiltpath',\n",
       " 'vertical.infiltsoilpath',\n",
       " 'vertical.infiltexcess',\n",
       " 'vertical.excesswater',\n",
       " 'vertical.exfiltsatwater',\n",
       " 'vertical.exfiltustore',\n",
       " 'vertical.excesswatersoil',\n",
       " 'vertical.excesswaterpath',\n",
       " 'vertical.runoff',\n",
       " 'vertical.vwc[1]',\n",
       " 'vertical.vwc[2]',\n",
       " 'vertical.vwc[3]',\n",
       " 'vertical.vwc[4]',\n",
       " 'vertical.vwc_perc[1]',\n",
       " 'vertical.vwc_perc[2]',\n",
       " 'vertical.vwc_perc[3]',\n",
       " 'vertical.vwc_perc[4]',\n",
       " 'vertical.rootstore',\n",
       " 'vertical.vwc_root',\n",
       " 'vertical.vwc_percroot',\n",
       " 'vertical.ustoredepth',\n",
       " 'vertical.transfer',\n",
       " 'vertical.recharge',\n",
       " 'vertical.actleakage',\n",
       " 'vertical.cfmax',\n",
       " 'vertical.tt',\n",
       " 'vertical.tti',\n",
       " 'vertical.ttm',\n",
       " 'vertical.whc',\n",
       " 'vertical.w_soil',\n",
       " 'vertical.cf_soil',\n",
       " 'vertical.snow',\n",
       " 'vertical.snowwater',\n",
       " 'vertical.rainfallplusmelt',\n",
       " 'vertical.g_tt',\n",
       " 'vertical.g_cfmax',\n",
       " 'vertical.g_sifrac',\n",
       " 'vertical.glacierstore',\n",
       " 'vertical.glacierfrac',\n",
       " 'vertical.tsoil',\n",
       " 'vertical.sl',\n",
       " 'vertical.swood',\n",
       " 'vertical.kext',\n",
       " 'vertical.leaf_area_index',\n",
       " 'vertical.waterlevel_land',\n",
       " 'vertical.waterlevel_river',\n",
       " 'lateral.subsurface.kh₀',\n",
       " 'lateral.subsurface.f',\n",
       " 'lateral.subsurface.soilthickness',\n",
       " 'lateral.subsurface.θₛ',\n",
       " 'lateral.subsurface.θᵣ',\n",
       " 'lateral.subsurface.βₗ',\n",
       " 'lateral.subsurface.dl',\n",
       " 'lateral.subsurface.dw',\n",
       " 'lateral.subsurface.zi',\n",
       " 'lateral.subsurface.exfiltwater',\n",
       " 'lateral.subsurface.recharge',\n",
       " 'lateral.subsurface.ssf',\n",
       " 'lateral.subsurface.ssfin',\n",
       " 'lateral.subsurface.ssfmax',\n",
       " 'lateral.subsurface.to_river',\n",
       " 'lateral.land.β',\n",
       " 'lateral.land.sl',\n",
       " 'lateral.land.n',\n",
       " 'lateral.land.dl',\n",
       " 'lateral.land.q',\n",
       " 'lateral.land.qin',\n",
       " 'lateral.land.q_av',\n",
       " 'lateral.land.qlat',\n",
       " 'lateral.land.inwater',\n",
       " 'lateral.land.volume',\n",
       " 'lateral.land.h',\n",
       " 'lateral.land.h_av',\n",
       " 'lateral.land.width',\n",
       " 'lateral.land.alpha_pow',\n",
       " 'lateral.land.alpha_term',\n",
       " 'lateral.land.α',\n",
       " 'lateral.land.cel',\n",
       " 'lateral.land.to_river',\n",
       " 'lateral.river.β',\n",
       " 'lateral.river.sl',\n",
       " 'lateral.river.n',\n",
       " 'lateral.river.dl',\n",
       " 'lateral.river.q',\n",
       " 'lateral.river.qin',\n",
       " 'lateral.river.q_av',\n",
       " 'lateral.river.qlat',\n",
       " 'lateral.river.inwater',\n",
       " 'lateral.river.inflow',\n",
       " 'lateral.river.volume',\n",
       " 'lateral.river.h',\n",
       " 'lateral.river.h_av',\n",
       " 'lateral.river.bankfull_depth',\n",
       " 'lateral.river.width',\n",
       " 'lateral.river.alpha_pow',\n",
       " 'lateral.river.alpha_term',\n",
       " 'lateral.river.α',\n",
       " 'lateral.river.cel',\n",
       " 'lateral.river.reservoir_index',\n",
       " 'lateral.river.lake_index',\n",
       " 'lateral.river.reservoir.maxvolume',\n",
       " 'lateral.river.reservoir.area',\n",
       " 'lateral.river.reservoir.maxrelease',\n",
       " 'lateral.river.reservoir.demand',\n",
       " 'lateral.river.reservoir.targetminfrac',\n",
       " 'lateral.river.reservoir.targetfullfrac',\n",
       " 'lateral.river.reservoir.volume',\n",
       " 'lateral.river.reservoir.inflow',\n",
       " 'lateral.river.reservoir.outflow',\n",
       " 'lateral.river.reservoir.totaloutflow',\n",
       " 'lateral.river.reservoir.percfull',\n",
       " 'lateral.river.reservoir.demandrelease',\n",
       " 'lateral.river.reservoir.precipitation',\n",
       " 'lateral.river.reservoir.evaporation']"
      ]
     },
     "execution_count": 20,
     "metadata": {},
     "output_type": "execute_result"
    }
   ],
   "source": [
    "vars"
   ]
  },
  {
   "cell_type": "code",
   "execution_count": null,
   "metadata": {},
   "outputs": [],
   "source": []
  }
 ],
 "metadata": {
  "kernelspec": {
   "display_name": "Python 3",
   "language": "python",
   "name": "python3"
  },
  "language_info": {
   "codemirror_mode": {
    "name": "ipython",
    "version": 3
   },
   "file_extension": ".py",
   "mimetype": "text/x-python",
   "name": "python",
   "nbconvert_exporter": "python",
   "pygments_lexer": "ipython3",
   "version": "3.10.0"
  },
  "orig_nbformat": 4
 },
 "nbformat": 4,
 "nbformat_minor": 2
}
